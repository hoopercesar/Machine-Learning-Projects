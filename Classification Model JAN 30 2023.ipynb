{
 "cells": [
  {
   "cell_type": "code",
   "execution_count": 3,
   "id": "7c77b13b",
   "metadata": {},
   "outputs": [],
   "source": [
    "import pandas as pd\n",
    "import numpy as np\n",
    "import imutils\n",
    "import os\n",
    "import cv2\n",
    "import matplotlib.pyplot as plt\n",
    "from sklearn.model_selection import train_test_split\n",
    "from sklearn.ensemble import RandomForestClassifier\n",
    "from sklearn.neural_network import MLPClassifier\n",
    "from sklearn.ensemble import ExtraTreesClassifier\n",
    "from sklearn.ensemble import GradientBoostingClassifier\n",
    "\n",
    "import seaborn as sn\n",
    "\n",
    "from sklearn.metrics import confusion_matrix\n",
    "from sklearn.metrics import roc_auc_score, accuracy_score, precision_score, recall_score\n",
    "from sklearn.metrics import roc_curve \n",
    "from sklearn.metrics import classification_report\n",
    "from sklearn.metrics import multilabel_confusion_matrix\n",
    "\n",
    "from sklearn.preprocessing import StandardScaler\n",
    "from sklearn import metrics"
   ]
  },
  {
   "cell_type": "code",
   "execution_count": 31,
   "id": "d10d4881",
   "metadata": {},
   "outputs": [],
   "source": [
    "path = 'C:/Users/Cesar Hooper/Desktop/github/proyecto_MARCELO/bdml2023.xlsx'\n",
    "path2 = 'C:/Users/Cesar Hooper/Desktop/github/proyecto_MARCELO/bdml2023.xlsx'"
   ]
  },
  {
   "cell_type": "code",
   "execution_count": 5,
   "id": "8ccf411d",
   "metadata": {},
   "outputs": [],
   "source": [
    "datos = pd.read_excel('bdml2023.xlsx')"
   ]
  },
  {
   "cell_type": "code",
   "execution_count": 6,
   "id": "50dc9c3f",
   "metadata": {},
   "outputs": [
    {
     "data": {
      "text/html": [
       "<div>\n",
       "<style scoped>\n",
       "    .dataframe tbody tr th:only-of-type {\n",
       "        vertical-align: middle;\n",
       "    }\n",
       "\n",
       "    .dataframe tbody tr th {\n",
       "        vertical-align: top;\n",
       "    }\n",
       "\n",
       "    .dataframe thead th {\n",
       "        text-align: right;\n",
       "    }\n",
       "</style>\n",
       "<table border=\"1\" class=\"dataframe\">\n",
       "  <thead>\n",
       "    <tr style=\"text-align: right;\">\n",
       "      <th></th>\n",
       "      <th>Unnamed: 0</th>\n",
       "      <th>Unnamed: 1</th>\n",
       "      <th>Unnamed: 2</th>\n",
       "      <th>Unnamed: 3</th>\n",
       "      <th>Unnamed: 4</th>\n",
       "      <th>Unnamed: 5</th>\n",
       "      <th>Unnamed: 6</th>\n",
       "      <th>Unnamed: 7</th>\n",
       "      <th>Unnamed: 8</th>\n",
       "      <th>Unnamed: 9</th>\n",
       "      <th>Unnamed: 10</th>\n",
       "      <th>Unnamed: 11</th>\n",
       "      <th>Unnamed: 12</th>\n",
       "      <th>Unnamed: 13</th>\n",
       "      <th>Unnamed: 14</th>\n",
       "      <th>Unnamed: 15</th>\n",
       "      <th>Unnamed: 16</th>\n",
       "    </tr>\n",
       "  </thead>\n",
       "  <tbody>\n",
       "    <tr>\n",
       "      <th>6</th>\n",
       "      <td>2022-01-03</td>\n",
       "      <td>10:20</td>\n",
       "      <td>5</td>\n",
       "      <td>9</td>\n",
       "      <td>11</td>\n",
       "      <td>16</td>\n",
       "      <td>19</td>\n",
       "      <td>21</td>\n",
       "      <td>25</td>\n",
       "      <td>28</td>\n",
       "      <td>31</td>\n",
       "      <td>33</td>\n",
       "      <td>4768.75</td>\n",
       "      <td>-30</td>\n",
       "      <td>-155</td>\n",
       "      <td>NaN</td>\n",
       "      <td>0</td>\n",
       "    </tr>\n",
       "    <tr>\n",
       "      <th>7</th>\n",
       "      <td>2022-01-03</td>\n",
       "      <td>10:21</td>\n",
       "      <td>3</td>\n",
       "      <td>9</td>\n",
       "      <td>11</td>\n",
       "      <td>16</td>\n",
       "      <td>19</td>\n",
       "      <td>21</td>\n",
       "      <td>25</td>\n",
       "      <td>28</td>\n",
       "      <td>31</td>\n",
       "      <td>33</td>\n",
       "      <td>4766</td>\n",
       "      <td>-43</td>\n",
       "      <td>-164</td>\n",
       "      <td>-2.75</td>\n",
       "      <td>0</td>\n",
       "    </tr>\n",
       "    <tr>\n",
       "      <th>8</th>\n",
       "      <td>2022-01-03</td>\n",
       "      <td>10:22</td>\n",
       "      <td>3</td>\n",
       "      <td>9</td>\n",
       "      <td>11</td>\n",
       "      <td>16</td>\n",
       "      <td>19</td>\n",
       "      <td>21</td>\n",
       "      <td>25</td>\n",
       "      <td>28</td>\n",
       "      <td>31</td>\n",
       "      <td>33</td>\n",
       "      <td>4766.75</td>\n",
       "      <td>-44</td>\n",
       "      <td>-161</td>\n",
       "      <td>-2</td>\n",
       "      <td>0</td>\n",
       "    </tr>\n",
       "    <tr>\n",
       "      <th>9</th>\n",
       "      <td>2022-01-03</td>\n",
       "      <td>10:23</td>\n",
       "      <td>3</td>\n",
       "      <td>9</td>\n",
       "      <td>11</td>\n",
       "      <td>16</td>\n",
       "      <td>19</td>\n",
       "      <td>21</td>\n",
       "      <td>25</td>\n",
       "      <td>28</td>\n",
       "      <td>31</td>\n",
       "      <td>33</td>\n",
       "      <td>4768.75</td>\n",
       "      <td>-38</td>\n",
       "      <td>-155</td>\n",
       "      <td>0</td>\n",
       "      <td>0</td>\n",
       "    </tr>\n",
       "    <tr>\n",
       "      <th>10</th>\n",
       "      <td>2022-01-03</td>\n",
       "      <td>10:24</td>\n",
       "      <td>3</td>\n",
       "      <td>9</td>\n",
       "      <td>11</td>\n",
       "      <td>16</td>\n",
       "      <td>18</td>\n",
       "      <td>21</td>\n",
       "      <td>25</td>\n",
       "      <td>27</td>\n",
       "      <td>31</td>\n",
       "      <td>33</td>\n",
       "      <td>4771.5</td>\n",
       "      <td>-30</td>\n",
       "      <td>-145</td>\n",
       "      <td>2.75</td>\n",
       "      <td>0</td>\n",
       "    </tr>\n",
       "  </tbody>\n",
       "</table>\n",
       "</div>"
      ],
      "text/plain": [
       "   Unnamed: 0 Unnamed: 1 Unnamed: 2 Unnamed: 3 Unnamed: 4 Unnamed: 5  \\\n",
       "6  2022-01-03      10:20          5          9         11         16   \n",
       "7  2022-01-03      10:21          3          9         11         16   \n",
       "8  2022-01-03      10:22          3          9         11         16   \n",
       "9  2022-01-03      10:23          3          9         11         16   \n",
       "10 2022-01-03      10:24          3          9         11         16   \n",
       "\n",
       "   Unnamed: 6 Unnamed: 7 Unnamed: 8 Unnamed: 9 Unnamed: 10 Unnamed: 11  \\\n",
       "6          19         21         25         28          31          33   \n",
       "7          19         21         25         28          31          33   \n",
       "8          19         21         25         28          31          33   \n",
       "9          19         21         25         28          31          33   \n",
       "10         18         21         25         27          31          33   \n",
       "\n",
       "   Unnamed: 12 Unnamed: 13 Unnamed: 14 Unnamed: 15 Unnamed: 16  \n",
       "6      4768.75         -30        -155         NaN           0  \n",
       "7         4766         -43        -164       -2.75           0  \n",
       "8      4766.75         -44        -161          -2           0  \n",
       "9      4768.75         -38        -155           0           0  \n",
       "10      4771.5         -30        -145        2.75           0  "
      ]
     },
     "execution_count": 6,
     "metadata": {},
     "output_type": "execute_result"
    }
   ],
   "source": [
    "dataset = datos[6::]\n",
    "dataset.head()"
   ]
  },
  {
   "cell_type": "code",
   "execution_count": 7,
   "id": "d81eb8a7",
   "metadata": {},
   "outputs": [
    {
     "data": {
      "text/plain": [
       "(9986, 17)"
      ]
     },
     "execution_count": 7,
     "metadata": {},
     "output_type": "execute_result"
    }
   ],
   "source": [
    "dataset.shape"
   ]
  },
  {
   "cell_type": "code",
   "execution_count": 8,
   "id": "541011f6",
   "metadata": {},
   "outputs": [],
   "source": [
    "dataset = dataset.dropna()"
   ]
  },
  {
   "cell_type": "code",
   "execution_count": 9,
   "id": "b2185cde",
   "metadata": {},
   "outputs": [],
   "source": [
    "fecha = dataset['Unnamed: 0']\n",
    "hora = dataset['Unnamed: 1']\n",
    "\n",
    "dataset = dataset.drop(['Unnamed: 0', 'Unnamed: 1'], axis=1)"
   ]
  },
  {
   "cell_type": "code",
   "execution_count": 10,
   "id": "7e481fd9",
   "metadata": {},
   "outputs": [
    {
     "data": {
      "text/html": [
       "<div>\n",
       "<style scoped>\n",
       "    .dataframe tbody tr th:only-of-type {\n",
       "        vertical-align: middle;\n",
       "    }\n",
       "\n",
       "    .dataframe tbody tr th {\n",
       "        vertical-align: top;\n",
       "    }\n",
       "\n",
       "    .dataframe thead th {\n",
       "        text-align: right;\n",
       "    }\n",
       "</style>\n",
       "<table border=\"1\" class=\"dataframe\">\n",
       "  <thead>\n",
       "    <tr style=\"text-align: right;\">\n",
       "      <th></th>\n",
       "      <th>Unnamed: 2</th>\n",
       "      <th>Unnamed: 3</th>\n",
       "      <th>Unnamed: 4</th>\n",
       "      <th>Unnamed: 5</th>\n",
       "      <th>Unnamed: 6</th>\n",
       "      <th>Unnamed: 7</th>\n",
       "      <th>Unnamed: 8</th>\n",
       "      <th>Unnamed: 9</th>\n",
       "      <th>Unnamed: 10</th>\n",
       "      <th>Unnamed: 11</th>\n",
       "      <th>Unnamed: 12</th>\n",
       "      <th>Unnamed: 13</th>\n",
       "      <th>Unnamed: 14</th>\n",
       "      <th>Unnamed: 15</th>\n",
       "      <th>Unnamed: 16</th>\n",
       "    </tr>\n",
       "  </thead>\n",
       "  <tbody>\n",
       "    <tr>\n",
       "      <th>7</th>\n",
       "      <td>3</td>\n",
       "      <td>9</td>\n",
       "      <td>11</td>\n",
       "      <td>16</td>\n",
       "      <td>19</td>\n",
       "      <td>21</td>\n",
       "      <td>25</td>\n",
       "      <td>28</td>\n",
       "      <td>31</td>\n",
       "      <td>33</td>\n",
       "      <td>4766</td>\n",
       "      <td>-43</td>\n",
       "      <td>-164</td>\n",
       "      <td>-2.75</td>\n",
       "      <td>0</td>\n",
       "    </tr>\n",
       "    <tr>\n",
       "      <th>8</th>\n",
       "      <td>3</td>\n",
       "      <td>9</td>\n",
       "      <td>11</td>\n",
       "      <td>16</td>\n",
       "      <td>19</td>\n",
       "      <td>21</td>\n",
       "      <td>25</td>\n",
       "      <td>28</td>\n",
       "      <td>31</td>\n",
       "      <td>33</td>\n",
       "      <td>4766.75</td>\n",
       "      <td>-44</td>\n",
       "      <td>-161</td>\n",
       "      <td>-2</td>\n",
       "      <td>0</td>\n",
       "    </tr>\n",
       "    <tr>\n",
       "      <th>9</th>\n",
       "      <td>3</td>\n",
       "      <td>9</td>\n",
       "      <td>11</td>\n",
       "      <td>16</td>\n",
       "      <td>19</td>\n",
       "      <td>21</td>\n",
       "      <td>25</td>\n",
       "      <td>28</td>\n",
       "      <td>31</td>\n",
       "      <td>33</td>\n",
       "      <td>4768.75</td>\n",
       "      <td>-38</td>\n",
       "      <td>-155</td>\n",
       "      <td>0</td>\n",
       "      <td>0</td>\n",
       "    </tr>\n",
       "    <tr>\n",
       "      <th>10</th>\n",
       "      <td>3</td>\n",
       "      <td>9</td>\n",
       "      <td>11</td>\n",
       "      <td>16</td>\n",
       "      <td>18</td>\n",
       "      <td>21</td>\n",
       "      <td>25</td>\n",
       "      <td>27</td>\n",
       "      <td>31</td>\n",
       "      <td>33</td>\n",
       "      <td>4771.5</td>\n",
       "      <td>-30</td>\n",
       "      <td>-145</td>\n",
       "      <td>2.75</td>\n",
       "      <td>0</td>\n",
       "    </tr>\n",
       "    <tr>\n",
       "      <th>11</th>\n",
       "      <td>2</td>\n",
       "      <td>9</td>\n",
       "      <td>11</td>\n",
       "      <td>16</td>\n",
       "      <td>18</td>\n",
       "      <td>21</td>\n",
       "      <td>25</td>\n",
       "      <td>27</td>\n",
       "      <td>30</td>\n",
       "      <td>33</td>\n",
       "      <td>4775.25</td>\n",
       "      <td>14</td>\n",
       "      <td>-126</td>\n",
       "      <td>6.5</td>\n",
       "      <td>0</td>\n",
       "    </tr>\n",
       "  </tbody>\n",
       "</table>\n",
       "</div>"
      ],
      "text/plain": [
       "   Unnamed: 2 Unnamed: 3 Unnamed: 4 Unnamed: 5 Unnamed: 6 Unnamed: 7  \\\n",
       "7           3          9         11         16         19         21   \n",
       "8           3          9         11         16         19         21   \n",
       "9           3          9         11         16         19         21   \n",
       "10          3          9         11         16         18         21   \n",
       "11          2          9         11         16         18         21   \n",
       "\n",
       "   Unnamed: 8 Unnamed: 9 Unnamed: 10 Unnamed: 11 Unnamed: 12 Unnamed: 13  \\\n",
       "7          25         28          31          33        4766         -43   \n",
       "8          25         28          31          33     4766.75         -44   \n",
       "9          25         28          31          33     4768.75         -38   \n",
       "10         25         27          31          33      4771.5         -30   \n",
       "11         25         27          30          33     4775.25          14   \n",
       "\n",
       "   Unnamed: 14 Unnamed: 15 Unnamed: 16  \n",
       "7         -164       -2.75           0  \n",
       "8         -161          -2           0  \n",
       "9         -155           0           0  \n",
       "10        -145        2.75           0  \n",
       "11        -126         6.5           0  "
      ]
     },
     "execution_count": 10,
     "metadata": {},
     "output_type": "execute_result"
    }
   ],
   "source": [
    "dataset.head(5)"
   ]
  },
  {
   "cell_type": "code",
   "execution_count": 11,
   "id": "0871ed1c",
   "metadata": {},
   "outputs": [
    {
     "data": {
      "text/plain": [
       "(9931, 15)"
      ]
     },
     "execution_count": 11,
     "metadata": {},
     "output_type": "execute_result"
    }
   ],
   "source": [
    "dataset.shape"
   ]
  },
  {
   "cell_type": "code",
   "execution_count": 12,
   "id": "b3b7f11b",
   "metadata": {},
   "outputs": [],
   "source": [
    "dataset = dataset.apply(pd.to_numeric)"
   ]
  },
  {
   "cell_type": "code",
   "execution_count": 13,
   "id": "ae30ba2c",
   "metadata": {},
   "outputs": [
    {
     "name": "stdout",
     "output_type": "stream",
     "text": [
      "<class 'pandas.core.frame.DataFrame'>\n",
      "Int64Index: 9931 entries, 7 to 9991\n",
      "Data columns (total 15 columns):\n",
      " #   Column       Non-Null Count  Dtype  \n",
      "---  ------       --------------  -----  \n",
      " 0   Unnamed: 2   9931 non-null   int64  \n",
      " 1   Unnamed: 3   9931 non-null   int64  \n",
      " 2   Unnamed: 4   9931 non-null   int64  \n",
      " 3   Unnamed: 5   9931 non-null   int64  \n",
      " 4   Unnamed: 6   9931 non-null   int64  \n",
      " 5   Unnamed: 7   9931 non-null   int64  \n",
      " 6   Unnamed: 8   9931 non-null   int64  \n",
      " 7   Unnamed: 9   9931 non-null   int64  \n",
      " 8   Unnamed: 10  9931 non-null   int64  \n",
      " 9   Unnamed: 11  9931 non-null   int64  \n",
      " 10  Unnamed: 12  9931 non-null   float64\n",
      " 11  Unnamed: 13  9931 non-null   int64  \n",
      " 12  Unnamed: 14  9931 non-null   int64  \n",
      " 13  Unnamed: 15  9931 non-null   float64\n",
      " 14  Unnamed: 16  9931 non-null   int64  \n",
      "dtypes: float64(2), int64(13)\n",
      "memory usage: 1.2 MB\n"
     ]
    }
   ],
   "source": [
    "dataset.info()"
   ]
  },
  {
   "cell_type": "code",
   "execution_count": 14,
   "id": "c9d4f1e5",
   "metadata": {},
   "outputs": [],
   "source": [
    "# creando modelo\n",
    "y = dataset['Unnamed: 16']\n",
    "X = dataset.drop('Unnamed: 16', axis=1)"
   ]
  },
  {
   "cell_type": "code",
   "execution_count": 68,
   "id": "65580c5f",
   "metadata": {},
   "outputs": [
    {
     "data": {
      "text/plain": [
       "14"
      ]
     },
     "execution_count": 68,
     "metadata": {},
     "output_type": "execute_result"
    }
   ],
   "source": [
    "len(X.columns)"
   ]
  },
  {
   "cell_type": "code",
   "execution_count": 15,
   "id": "6f239b44",
   "metadata": {},
   "outputs": [],
   "source": [
    "# 80% training and 20% test\n",
    "X_train, X_test, y_train, y_test = train_test_split(X, y, test_size=0.2) "
   ]
  },
  {
   "cell_type": "code",
   "execution_count": 16,
   "id": "bb2c6fc7",
   "metadata": {},
   "outputs": [],
   "source": [
    "# Vamos a escalar los datos. \n",
    "# Crea el objeto y fitea\n",
    "scaler = StandardScaler()\n",
    "scaler.fit(X_train)\n",
    "\n",
    "# normaliza los datos. tf: transformados o escalados\n",
    "X_train_tf = scaler.transform(X_train)\n",
    "X_test_tf = scaler.transform(X_test)"
   ]
  },
  {
   "cell_type": "code",
   "execution_count": 17,
   "id": "6732cdbc",
   "metadata": {},
   "outputs": [],
   "source": [
    "\n",
    "# crea Classifier\n",
    "clf=RandomForestClassifier(n_estimators=200)\n",
    "\n",
    "# Entrena modelo y lo aplica para predecir\n",
    "clf.fit(X_train_tf, y_train)\n",
    "\n",
    "y_pred_train = clf.predict(X_train_tf)\n",
    "y_pred_test = clf.predict(X_test_tf)\n",
    "y_test_proba = clf.predict_proba(X_test_tf)\n",
    "y_total_proba = clf\n",
    "# y_test_proba = clf.predict_proba(X_test_tf)"
   ]
  },
  {
   "cell_type": "code",
   "execution_count": 18,
   "id": "763e16b7",
   "metadata": {},
   "outputs": [],
   "source": [
    "resultados = pd.DataFrame()\n",
    "\n",
    "## aplicación a todos los datos\n",
    "X_tf = scaler.transform(X)\n",
    "y_pred = clf.predict(X_tf)\n",
    "y_proba = clf.predict_proba(X_tf)"
   ]
  },
  {
   "cell_type": "code",
   "execution_count": 19,
   "id": "d38d4d85",
   "metadata": {},
   "outputs": [
    {
     "data": {
      "text/plain": [
       "array([[0.245, 0.71 , 0.045],\n",
       "       [0.175, 0.81 , 0.015],\n",
       "       [0.155, 0.835, 0.01 ],\n",
       "       ...,\n",
       "       [0.02 , 0.005, 0.975],\n",
       "       [0.035, 0.015, 0.95 ],\n",
       "       [0.02 , 0.005, 0.975]])"
      ]
     },
     "execution_count": 19,
     "metadata": {},
     "output_type": "execute_result"
    }
   ],
   "source": [
    "y_proba"
   ]
  },
  {
   "cell_type": "code",
   "execution_count": 22,
   "id": "56f71c9d",
   "metadata": {},
   "outputs": [
    {
     "data": {
      "text/html": [
       "<div>\n",
       "<style scoped>\n",
       "    .dataframe tbody tr th:only-of-type {\n",
       "        vertical-align: middle;\n",
       "    }\n",
       "\n",
       "    .dataframe tbody tr th {\n",
       "        vertical-align: top;\n",
       "    }\n",
       "\n",
       "    .dataframe thead th {\n",
       "        text-align: right;\n",
       "    }\n",
       "</style>\n",
       "<table border=\"1\" class=\"dataframe\">\n",
       "  <thead>\n",
       "    <tr style=\"text-align: right;\">\n",
       "      <th></th>\n",
       "      <th>fecha</th>\n",
       "      <th>hora</th>\n",
       "      <th>Real</th>\n",
       "      <th>Prediccion</th>\n",
       "      <th>%pred: -1</th>\n",
       "      <th>%pred: 0</th>\n",
       "      <th>%pred: 1</th>\n",
       "      <th>entropia</th>\n",
       "    </tr>\n",
       "  </thead>\n",
       "  <tbody>\n",
       "    <tr>\n",
       "      <th>7</th>\n",
       "      <td>2022-01-03</td>\n",
       "      <td>10:21</td>\n",
       "      <td>0</td>\n",
       "      <td>0</td>\n",
       "      <td>0.245</td>\n",
       "      <td>0.710</td>\n",
       "      <td>0.045</td>\n",
       "      <td>1.049285</td>\n",
       "    </tr>\n",
       "    <tr>\n",
       "      <th>8</th>\n",
       "      <td>2022-01-03</td>\n",
       "      <td>10:22</td>\n",
       "      <td>0</td>\n",
       "      <td>0</td>\n",
       "      <td>0.175</td>\n",
       "      <td>0.810</td>\n",
       "      <td>0.015</td>\n",
       "      <td>0.777179</td>\n",
       "    </tr>\n",
       "    <tr>\n",
       "      <th>9</th>\n",
       "      <td>2022-01-03</td>\n",
       "      <td>10:23</td>\n",
       "      <td>0</td>\n",
       "      <td>0</td>\n",
       "      <td>0.155</td>\n",
       "      <td>0.835</td>\n",
       "      <td>0.010</td>\n",
       "      <td>0.700563</td>\n",
       "    </tr>\n",
       "    <tr>\n",
       "      <th>10</th>\n",
       "      <td>2022-01-03</td>\n",
       "      <td>10:24</td>\n",
       "      <td>0</td>\n",
       "      <td>0</td>\n",
       "      <td>0.410</td>\n",
       "      <td>0.540</td>\n",
       "      <td>0.050</td>\n",
       "      <td>1.223524</td>\n",
       "    </tr>\n",
       "    <tr>\n",
       "      <th>11</th>\n",
       "      <td>2022-01-03</td>\n",
       "      <td>10:25</td>\n",
       "      <td>0</td>\n",
       "      <td>0</td>\n",
       "      <td>0.115</td>\n",
       "      <td>0.845</td>\n",
       "      <td>0.040</td>\n",
       "      <td>0.749903</td>\n",
       "    </tr>\n",
       "    <tr>\n",
       "      <th>12</th>\n",
       "      <td>2022-01-03</td>\n",
       "      <td>10:26</td>\n",
       "      <td>0</td>\n",
       "      <td>0</td>\n",
       "      <td>0.350</td>\n",
       "      <td>0.585</td>\n",
       "      <td>0.065</td>\n",
       "      <td>1.238915</td>\n",
       "    </tr>\n",
       "    <tr>\n",
       "      <th>13</th>\n",
       "      <td>2022-01-03</td>\n",
       "      <td>10:27</td>\n",
       "      <td>0</td>\n",
       "      <td>0</td>\n",
       "      <td>0.165</td>\n",
       "      <td>0.790</td>\n",
       "      <td>0.045</td>\n",
       "      <td>0.898898</td>\n",
       "    </tr>\n",
       "    <tr>\n",
       "      <th>14</th>\n",
       "      <td>2022-01-03</td>\n",
       "      <td>10:28</td>\n",
       "      <td>0</td>\n",
       "      <td>0</td>\n",
       "      <td>0.130</td>\n",
       "      <td>0.820</td>\n",
       "      <td>0.050</td>\n",
       "      <td>0.833510</td>\n",
       "    </tr>\n",
       "    <tr>\n",
       "      <th>15</th>\n",
       "      <td>2022-01-03</td>\n",
       "      <td>10:29</td>\n",
       "      <td>0</td>\n",
       "      <td>0</td>\n",
       "      <td>0.060</td>\n",
       "      <td>0.855</td>\n",
       "      <td>0.085</td>\n",
       "      <td>0.739060</td>\n",
       "    </tr>\n",
       "    <tr>\n",
       "      <th>16</th>\n",
       "      <td>2022-01-03</td>\n",
       "      <td>10:30</td>\n",
       "      <td>0</td>\n",
       "      <td>0</td>\n",
       "      <td>0.020</td>\n",
       "      <td>0.950</td>\n",
       "      <td>0.030</td>\n",
       "      <td>0.334944</td>\n",
       "    </tr>\n",
       "    <tr>\n",
       "      <th>17</th>\n",
       "      <td>2022-01-03</td>\n",
       "      <td>10:31</td>\n",
       "      <td>0</td>\n",
       "      <td>0</td>\n",
       "      <td>0.020</td>\n",
       "      <td>0.970</td>\n",
       "      <td>0.010</td>\n",
       "      <td>0.221941</td>\n",
       "    </tr>\n",
       "    <tr>\n",
       "      <th>18</th>\n",
       "      <td>2022-01-03</td>\n",
       "      <td>10:32</td>\n",
       "      <td>0</td>\n",
       "      <td>0</td>\n",
       "      <td>0.020</td>\n",
       "      <td>0.965</td>\n",
       "      <td>0.015</td>\n",
       "      <td>0.253361</td>\n",
       "    </tr>\n",
       "    <tr>\n",
       "      <th>19</th>\n",
       "      <td>2022-01-03</td>\n",
       "      <td>10:33</td>\n",
       "      <td>0</td>\n",
       "      <td>0</td>\n",
       "      <td>0.085</td>\n",
       "      <td>0.915</td>\n",
       "      <td>0.000</td>\n",
       "      <td>0.419556</td>\n",
       "    </tr>\n",
       "    <tr>\n",
       "      <th>20</th>\n",
       "      <td>2022-01-03</td>\n",
       "      <td>10:34</td>\n",
       "      <td>0</td>\n",
       "      <td>0</td>\n",
       "      <td>0.010</td>\n",
       "      <td>0.990</td>\n",
       "      <td>0.000</td>\n",
       "      <td>0.080793</td>\n",
       "    </tr>\n",
       "    <tr>\n",
       "      <th>21</th>\n",
       "      <td>2022-01-03</td>\n",
       "      <td>10:35</td>\n",
       "      <td>0</td>\n",
       "      <td>0</td>\n",
       "      <td>0.005</td>\n",
       "      <td>0.995</td>\n",
       "      <td>0.000</td>\n",
       "      <td>0.045415</td>\n",
       "    </tr>\n",
       "    <tr>\n",
       "      <th>22</th>\n",
       "      <td>2022-01-03</td>\n",
       "      <td>10:36</td>\n",
       "      <td>0</td>\n",
       "      <td>0</td>\n",
       "      <td>0.000</td>\n",
       "      <td>1.000</td>\n",
       "      <td>0.000</td>\n",
       "      <td>0.000000</td>\n",
       "    </tr>\n",
       "    <tr>\n",
       "      <th>23</th>\n",
       "      <td>2022-01-03</td>\n",
       "      <td>10:37</td>\n",
       "      <td>0</td>\n",
       "      <td>0</td>\n",
       "      <td>0.000</td>\n",
       "      <td>1.000</td>\n",
       "      <td>0.000</td>\n",
       "      <td>0.000000</td>\n",
       "    </tr>\n",
       "    <tr>\n",
       "      <th>24</th>\n",
       "      <td>2022-01-03</td>\n",
       "      <td>10:38</td>\n",
       "      <td>0</td>\n",
       "      <td>0</td>\n",
       "      <td>0.010</td>\n",
       "      <td>0.990</td>\n",
       "      <td>0.000</td>\n",
       "      <td>0.080793</td>\n",
       "    </tr>\n",
       "    <tr>\n",
       "      <th>25</th>\n",
       "      <td>2022-01-03</td>\n",
       "      <td>10:39</td>\n",
       "      <td>0</td>\n",
       "      <td>0</td>\n",
       "      <td>0.010</td>\n",
       "      <td>0.990</td>\n",
       "      <td>0.000</td>\n",
       "      <td>0.080793</td>\n",
       "    </tr>\n",
       "    <tr>\n",
       "      <th>26</th>\n",
       "      <td>2022-01-03</td>\n",
       "      <td>10:40</td>\n",
       "      <td>0</td>\n",
       "      <td>0</td>\n",
       "      <td>0.050</td>\n",
       "      <td>0.950</td>\n",
       "      <td>0.000</td>\n",
       "      <td>0.286397</td>\n",
       "    </tr>\n",
       "    <tr>\n",
       "      <th>27</th>\n",
       "      <td>2022-01-03</td>\n",
       "      <td>10:41</td>\n",
       "      <td>0</td>\n",
       "      <td>0</td>\n",
       "      <td>0.000</td>\n",
       "      <td>0.995</td>\n",
       "      <td>0.005</td>\n",
       "      <td>0.045415</td>\n",
       "    </tr>\n",
       "    <tr>\n",
       "      <th>28</th>\n",
       "      <td>2022-01-03</td>\n",
       "      <td>10:42</td>\n",
       "      <td>0</td>\n",
       "      <td>0</td>\n",
       "      <td>0.030</td>\n",
       "      <td>0.970</td>\n",
       "      <td>0.000</td>\n",
       "      <td>0.194392</td>\n",
       "    </tr>\n",
       "    <tr>\n",
       "      <th>29</th>\n",
       "      <td>2022-01-03</td>\n",
       "      <td>10:43</td>\n",
       "      <td>0</td>\n",
       "      <td>0</td>\n",
       "      <td>0.010</td>\n",
       "      <td>0.990</td>\n",
       "      <td>0.000</td>\n",
       "      <td>0.080793</td>\n",
       "    </tr>\n",
       "    <tr>\n",
       "      <th>30</th>\n",
       "      <td>2022-01-03</td>\n",
       "      <td>10:44</td>\n",
       "      <td>0</td>\n",
       "      <td>0</td>\n",
       "      <td>0.010</td>\n",
       "      <td>0.990</td>\n",
       "      <td>0.000</td>\n",
       "      <td>0.080793</td>\n",
       "    </tr>\n",
       "    <tr>\n",
       "      <th>31</th>\n",
       "      <td>2022-01-03</td>\n",
       "      <td>10:45</td>\n",
       "      <td>0</td>\n",
       "      <td>0</td>\n",
       "      <td>0.005</td>\n",
       "      <td>0.995</td>\n",
       "      <td>0.000</td>\n",
       "      <td>0.045415</td>\n",
       "    </tr>\n",
       "  </tbody>\n",
       "</table>\n",
       "</div>"
      ],
      "text/plain": [
       "        fecha   hora  Real  Prediccion  %pred: -1  %pred: 0  %pred: 1  \\\n",
       "7  2022-01-03  10:21     0           0      0.245     0.710     0.045   \n",
       "8  2022-01-03  10:22     0           0      0.175     0.810     0.015   \n",
       "9  2022-01-03  10:23     0           0      0.155     0.835     0.010   \n",
       "10 2022-01-03  10:24     0           0      0.410     0.540     0.050   \n",
       "11 2022-01-03  10:25     0           0      0.115     0.845     0.040   \n",
       "12 2022-01-03  10:26     0           0      0.350     0.585     0.065   \n",
       "13 2022-01-03  10:27     0           0      0.165     0.790     0.045   \n",
       "14 2022-01-03  10:28     0           0      0.130     0.820     0.050   \n",
       "15 2022-01-03  10:29     0           0      0.060     0.855     0.085   \n",
       "16 2022-01-03  10:30     0           0      0.020     0.950     0.030   \n",
       "17 2022-01-03  10:31     0           0      0.020     0.970     0.010   \n",
       "18 2022-01-03  10:32     0           0      0.020     0.965     0.015   \n",
       "19 2022-01-03  10:33     0           0      0.085     0.915     0.000   \n",
       "20 2022-01-03  10:34     0           0      0.010     0.990     0.000   \n",
       "21 2022-01-03  10:35     0           0      0.005     0.995     0.000   \n",
       "22 2022-01-03  10:36     0           0      0.000     1.000     0.000   \n",
       "23 2022-01-03  10:37     0           0      0.000     1.000     0.000   \n",
       "24 2022-01-03  10:38     0           0      0.010     0.990     0.000   \n",
       "25 2022-01-03  10:39     0           0      0.010     0.990     0.000   \n",
       "26 2022-01-03  10:40     0           0      0.050     0.950     0.000   \n",
       "27 2022-01-03  10:41     0           0      0.000     0.995     0.005   \n",
       "28 2022-01-03  10:42     0           0      0.030     0.970     0.000   \n",
       "29 2022-01-03  10:43     0           0      0.010     0.990     0.000   \n",
       "30 2022-01-03  10:44     0           0      0.010     0.990     0.000   \n",
       "31 2022-01-03  10:45     0           0      0.005     0.995     0.000   \n",
       "\n",
       "    entropia  \n",
       "7   1.049285  \n",
       "8   0.777179  \n",
       "9   0.700563  \n",
       "10  1.223524  \n",
       "11  0.749903  \n",
       "12  1.238915  \n",
       "13  0.898898  \n",
       "14  0.833510  \n",
       "15  0.739060  \n",
       "16  0.334944  \n",
       "17  0.221941  \n",
       "18  0.253361  \n",
       "19  0.419556  \n",
       "20  0.080793  \n",
       "21  0.045415  \n",
       "22  0.000000  \n",
       "23  0.000000  \n",
       "24  0.080793  \n",
       "25  0.080793  \n",
       "26  0.286397  \n",
       "27  0.045415  \n",
       "28  0.194392  \n",
       "29  0.080793  \n",
       "30  0.080793  \n",
       "31  0.045415  "
      ]
     },
     "execution_count": 22,
     "metadata": {},
     "output_type": "execute_result"
    }
   ],
   "source": [
    "resultados['fecha'] = fecha\n",
    "resultados['hora'] = hora\n",
    "resultados['Real'] = y\n",
    "resultados['Prediccion'] = y_pred\n",
    "resultados['%pred: -1'] = y_proba[:,0]\n",
    "resultados['%pred: 0'] = y_proba[:,1]\n",
    "resultados['%pred: 1'] = y_proba[:,2]\n",
    "resultados.to_excel('resultadosV2.xlsx', index=False)\n",
    "resultados['entropia'] = entropia\n",
    "resultados.head(25)"
   ]
  },
  {
   "cell_type": "code",
   "execution_count": 26,
   "id": "343ce01a",
   "metadata": {},
   "outputs": [
    {
     "data": {
      "text/html": [
       "<div>\n",
       "<style scoped>\n",
       "    .dataframe tbody tr th:only-of-type {\n",
       "        vertical-align: middle;\n",
       "    }\n",
       "\n",
       "    .dataframe tbody tr th {\n",
       "        vertical-align: top;\n",
       "    }\n",
       "\n",
       "    .dataframe thead th {\n",
       "        text-align: right;\n",
       "    }\n",
       "</style>\n",
       "<table border=\"1\" class=\"dataframe\">\n",
       "  <thead>\n",
       "    <tr style=\"text-align: right;\">\n",
       "      <th></th>\n",
       "      <th>fecha</th>\n",
       "      <th>hora</th>\n",
       "      <th>Real</th>\n",
       "      <th>Prediccion</th>\n",
       "      <th>%pred: -1</th>\n",
       "      <th>%pred: 0</th>\n",
       "      <th>%pred: 1</th>\n",
       "      <th>entropia</th>\n",
       "    </tr>\n",
       "  </thead>\n",
       "  <tbody>\n",
       "    <tr>\n",
       "      <th>7</th>\n",
       "      <td>2022-01-03</td>\n",
       "      <td>10:21</td>\n",
       "      <td>0</td>\n",
       "      <td>0</td>\n",
       "      <td>0.245</td>\n",
       "      <td>0.710</td>\n",
       "      <td>0.045</td>\n",
       "      <td>1.049285</td>\n",
       "    </tr>\n",
       "    <tr>\n",
       "      <th>10</th>\n",
       "      <td>2022-01-03</td>\n",
       "      <td>10:24</td>\n",
       "      <td>0</td>\n",
       "      <td>0</td>\n",
       "      <td>0.410</td>\n",
       "      <td>0.540</td>\n",
       "      <td>0.050</td>\n",
       "      <td>1.223524</td>\n",
       "    </tr>\n",
       "    <tr>\n",
       "      <th>12</th>\n",
       "      <td>2022-01-03</td>\n",
       "      <td>10:26</td>\n",
       "      <td>0</td>\n",
       "      <td>0</td>\n",
       "      <td>0.350</td>\n",
       "      <td>0.585</td>\n",
       "      <td>0.065</td>\n",
       "      <td>1.238915</td>\n",
       "    </tr>\n",
       "    <tr>\n",
       "      <th>53</th>\n",
       "      <td>2022-01-03</td>\n",
       "      <td>11:07</td>\n",
       "      <td>-1</td>\n",
       "      <td>-1</td>\n",
       "      <td>0.665</td>\n",
       "      <td>0.325</td>\n",
       "      <td>0.010</td>\n",
       "      <td>0.984824</td>\n",
       "    </tr>\n",
       "    <tr>\n",
       "      <th>71</th>\n",
       "      <td>2022-01-03</td>\n",
       "      <td>11:25</td>\n",
       "      <td>-1</td>\n",
       "      <td>-1</td>\n",
       "      <td>0.625</td>\n",
       "      <td>0.375</td>\n",
       "      <td>0.000</td>\n",
       "      <td>0.954434</td>\n",
       "    </tr>\n",
       "    <tr>\n",
       "      <th>...</th>\n",
       "      <td>...</td>\n",
       "      <td>...</td>\n",
       "      <td>...</td>\n",
       "      <td>...</td>\n",
       "      <td>...</td>\n",
       "      <td>...</td>\n",
       "      <td>...</td>\n",
       "      <td>...</td>\n",
       "    </tr>\n",
       "    <tr>\n",
       "      <th>9484</th>\n",
       "      <td>2022-01-31</td>\n",
       "      <td>08:31</td>\n",
       "      <td>1</td>\n",
       "      <td>0</td>\n",
       "      <td>0.360</td>\n",
       "      <td>0.390</td>\n",
       "      <td>0.250</td>\n",
       "      <td>1.560412</td>\n",
       "    </tr>\n",
       "    <tr>\n",
       "      <th>9538</th>\n",
       "      <td>2022-01-31</td>\n",
       "      <td>09:25</td>\n",
       "      <td>1</td>\n",
       "      <td>1</td>\n",
       "      <td>0.115</td>\n",
       "      <td>0.105</td>\n",
       "      <td>0.780</td>\n",
       "      <td>0.979840</td>\n",
       "    </tr>\n",
       "    <tr>\n",
       "      <th>9544</th>\n",
       "      <td>2022-01-31</td>\n",
       "      <td>09:31</td>\n",
       "      <td>1</td>\n",
       "      <td>1</td>\n",
       "      <td>0.190</td>\n",
       "      <td>0.090</td>\n",
       "      <td>0.720</td>\n",
       "      <td>1.109111</td>\n",
       "    </tr>\n",
       "    <tr>\n",
       "      <th>9545</th>\n",
       "      <td>2022-01-31</td>\n",
       "      <td>09:32</td>\n",
       "      <td>1</td>\n",
       "      <td>1</td>\n",
       "      <td>0.210</td>\n",
       "      <td>0.055</td>\n",
       "      <td>0.735</td>\n",
       "      <td>1.029442</td>\n",
       "    </tr>\n",
       "    <tr>\n",
       "      <th>9903</th>\n",
       "      <td>2022-01-31</td>\n",
       "      <td>15:30</td>\n",
       "      <td>1</td>\n",
       "      <td>1</td>\n",
       "      <td>0.075</td>\n",
       "      <td>0.135</td>\n",
       "      <td>0.790</td>\n",
       "      <td>0.938943</td>\n",
       "    </tr>\n",
       "  </tbody>\n",
       "</table>\n",
       "<p>388 rows × 8 columns</p>\n",
       "</div>"
      ],
      "text/plain": [
       "          fecha   hora  Real  Prediccion  %pred: -1  %pred: 0  %pred: 1  \\\n",
       "7    2022-01-03  10:21     0           0      0.245     0.710     0.045   \n",
       "10   2022-01-03  10:24     0           0      0.410     0.540     0.050   \n",
       "12   2022-01-03  10:26     0           0      0.350     0.585     0.065   \n",
       "53   2022-01-03  11:07    -1          -1      0.665     0.325     0.010   \n",
       "71   2022-01-03  11:25    -1          -1      0.625     0.375     0.000   \n",
       "...         ...    ...   ...         ...        ...       ...       ...   \n",
       "9484 2022-01-31  08:31     1           0      0.360     0.390     0.250   \n",
       "9538 2022-01-31  09:25     1           1      0.115     0.105     0.780   \n",
       "9544 2022-01-31  09:31     1           1      0.190     0.090     0.720   \n",
       "9545 2022-01-31  09:32     1           1      0.210     0.055     0.735   \n",
       "9903 2022-01-31  15:30     1           1      0.075     0.135     0.790   \n",
       "\n",
       "      entropia  \n",
       "7     1.049285  \n",
       "10    1.223524  \n",
       "12    1.238915  \n",
       "53    0.984824  \n",
       "71    0.954434  \n",
       "...        ...  \n",
       "9484  1.560412  \n",
       "9538  0.979840  \n",
       "9544  1.109111  \n",
       "9545  1.029442  \n",
       "9903  0.938943  \n",
       "\n",
       "[388 rows x 8 columns]"
      ]
     },
     "execution_count": 26,
     "metadata": {},
     "output_type": "execute_result"
    }
   ],
   "source": [
    "filtro = resultados[resultados['entropia']> 0.9]\n",
    "filtro\n"
   ]
  },
  {
   "cell_type": "code",
   "execution_count": 27,
   "id": "1dfa7612",
   "metadata": {},
   "outputs": [
    {
     "data": {
      "text/plain": [
       "1.584962500721156"
      ]
     },
     "execution_count": 27,
     "metadata": {},
     "output_type": "execute_result"
    }
   ],
   "source": [
    "np.log2(3)"
   ]
  },
  {
   "cell_type": "code",
   "execution_count": 21,
   "id": "52bfe149",
   "metadata": {},
   "outputs": [],
   "source": [
    "probs = resultados[['%pred: -1', '%pred: 0', '%pred: 1']]\n",
    "entropia = []\n",
    "for ind in probs.index:\n",
    "#     print(prob)\n",
    "    entropia.append(sum([0 if k == 0 else -k*np.log2(k) for k in probs.loc[ind]]))"
   ]
  },
  {
   "cell_type": "code",
   "execution_count": 146,
   "id": "77475cc5",
   "metadata": {},
   "outputs": [
    {
     "data": {
      "text/plain": [
       "<AxesSubplot:>"
      ]
     },
     "execution_count": 146,
     "metadata": {},
     "output_type": "execute_result"
    },
    {
     "data": {
      "image/png": "[encoded data removed]",
      "text/plain": [
       "<Figure size 1080x360 with 1 Axes>"
      ]
     },
     "metadata": {
      "needs_background": "light"
     },
     "output_type": "display_data"
    }
   ],
   "source": [
    "plt.figure(figsize=(15, 5))\n",
    "resultados[resultados['entropia']> 0.9]['entropia'].plot()"
   ]
  },
  {
   "cell_type": "code",
   "execution_count": 46,
   "id": "799b9e68",
   "metadata": {},
   "outputs": [
    {
     "ename": "NameError",
     "evalue": "name 'tabla' is not defined",
     "output_type": "error",
     "traceback": [
      "\u001b[1;31m---------------------------------------------------------------------------\u001b[0m",
      "\u001b[1;31mNameError\u001b[0m                                 Traceback (most recent call last)",
      "\u001b[1;32m<ipython-input-46-4f67ad03b25d>\u001b[0m in \u001b[0;36m<module>\u001b[1;34m\u001b[0m\n\u001b[1;32m----> 1\u001b[1;33m \u001b[0mtabla\u001b[0m\u001b[1;33m.\u001b[0m\u001b[0mto_excel\u001b[0m\u001b[1;33m(\u001b[0m\u001b[1;34m'resultados.xlsx'\u001b[0m\u001b[1;33m,\u001b[0m \u001b[0mindex\u001b[0m\u001b[1;33m=\u001b[0m\u001b[1;32mFalse\u001b[0m\u001b[1;33m)\u001b[0m\u001b[1;33m\u001b[0m\u001b[1;33m\u001b[0m\u001b[0m\n\u001b[0m",
      "\u001b[1;31mNameError\u001b[0m: name 'tabla' is not defined"
     ]
    }
   ],
   "source": [
    "tabla.to_excel('resultados.xlsx', index=False)"
   ]
  },
  {
   "cell_type": "code",
   "execution_count": null,
   "id": "05f2b906",
   "metadata": {},
   "outputs": [],
   "source": []
  },
  {
   "cell_type": "markdown",
   "id": "d94bd095",
   "metadata": {},
   "source": [
    "# Febrero 2022"
   ]
  },
  {
   "cell_type": "code",
   "execution_count": 54,
   "id": "1dbe2e61",
   "metadata": {},
   "outputs": [],
   "source": [
    "datos2 = pd.read_excel('febrero2022.xlsx')"
   ]
  },
  {
   "cell_type": "code",
   "execution_count": 59,
   "id": "c65213b0",
   "metadata": {},
   "outputs": [
    {
     "data": {
      "text/html": [
       "<div>\n",
       "<style scoped>\n",
       "    .dataframe tbody tr th:only-of-type {\n",
       "        vertical-align: middle;\n",
       "    }\n",
       "\n",
       "    .dataframe tbody tr th {\n",
       "        vertical-align: top;\n",
       "    }\n",
       "\n",
       "    .dataframe thead th {\n",
       "        text-align: right;\n",
       "    }\n",
       "</style>\n",
       "<table border=\"1\" class=\"dataframe\">\n",
       "  <thead>\n",
       "    <tr style=\"text-align: right;\">\n",
       "      <th></th>\n",
       "      <th>FECHA</th>\n",
       "      <th>HORA</th>\n",
       "      <th>5MIN</th>\n",
       "      <th>30MIN</th>\n",
       "      <th>4HR</th>\n",
       "      <th>DIA</th>\n",
       "      <th>5MIN.1</th>\n",
       "      <th>30 MIN</th>\n",
       "      <th>4HR.1</th>\n",
       "      <th>DIA.1</th>\n",
       "      <th>CCI5MIN</th>\n",
       "      <th>CCI30MIN</th>\n",
       "      <th>PRECIO</th>\n",
       "      <th>CCI5MIN.1</th>\n",
       "      <th>CCI30MIN.1</th>\n",
       "      <th>RENTABILIDAD</th>\n",
       "    </tr>\n",
       "  </thead>\n",
       "  <tbody>\n",
       "    <tr>\n",
       "      <th>1</th>\n",
       "      <td>2022-02-02</td>\n",
       "      <td>06:34</td>\n",
       "      <td>2</td>\n",
       "      <td>9</td>\n",
       "      <td>12</td>\n",
       "      <td>14</td>\n",
       "      <td>18</td>\n",
       "      <td>21</td>\n",
       "      <td>24</td>\n",
       "      <td>28</td>\n",
       "      <td>30</td>\n",
       "      <td>32</td>\n",
       "      <td>4568.00</td>\n",
       "      <td>-60</td>\n",
       "      <td>89</td>\n",
       "      <td>1.00</td>\n",
       "    </tr>\n",
       "    <tr>\n",
       "      <th>2</th>\n",
       "      <td>2022-02-02</td>\n",
       "      <td>06:35</td>\n",
       "      <td>5</td>\n",
       "      <td>9</td>\n",
       "      <td>12</td>\n",
       "      <td>14</td>\n",
       "      <td>19</td>\n",
       "      <td>21</td>\n",
       "      <td>24</td>\n",
       "      <td>28</td>\n",
       "      <td>30</td>\n",
       "      <td>32</td>\n",
       "      <td>4567.75</td>\n",
       "      <td>-46</td>\n",
       "      <td>88</td>\n",
       "      <td>0.75</td>\n",
       "    </tr>\n",
       "    <tr>\n",
       "      <th>3</th>\n",
       "      <td>2022-02-02</td>\n",
       "      <td>06:36</td>\n",
       "      <td>2</td>\n",
       "      <td>9</td>\n",
       "      <td>12</td>\n",
       "      <td>14</td>\n",
       "      <td>20</td>\n",
       "      <td>21</td>\n",
       "      <td>24</td>\n",
       "      <td>28</td>\n",
       "      <td>30</td>\n",
       "      <td>32</td>\n",
       "      <td>4568.00</td>\n",
       "      <td>-39</td>\n",
       "      <td>91</td>\n",
       "      <td>1.00</td>\n",
       "    </tr>\n",
       "    <tr>\n",
       "      <th>4</th>\n",
       "      <td>2022-02-02</td>\n",
       "      <td>06:37</td>\n",
       "      <td>2</td>\n",
       "      <td>9</td>\n",
       "      <td>12</td>\n",
       "      <td>14</td>\n",
       "      <td>18</td>\n",
       "      <td>21</td>\n",
       "      <td>24</td>\n",
       "      <td>28</td>\n",
       "      <td>30</td>\n",
       "      <td>32</td>\n",
       "      <td>4568.25</td>\n",
       "      <td>-36</td>\n",
       "      <td>92</td>\n",
       "      <td>1.25</td>\n",
       "    </tr>\n",
       "    <tr>\n",
       "      <th>5</th>\n",
       "      <td>2022-02-02</td>\n",
       "      <td>06:38</td>\n",
       "      <td>2</td>\n",
       "      <td>9</td>\n",
       "      <td>12</td>\n",
       "      <td>14</td>\n",
       "      <td>19</td>\n",
       "      <td>21</td>\n",
       "      <td>24</td>\n",
       "      <td>28</td>\n",
       "      <td>30</td>\n",
       "      <td>32</td>\n",
       "      <td>4567.75</td>\n",
       "      <td>-41</td>\n",
       "      <td>90</td>\n",
       "      <td>0.75</td>\n",
       "    </tr>\n",
       "    <tr>\n",
       "      <th>6</th>\n",
       "      <td>2022-02-02</td>\n",
       "      <td>06:39</td>\n",
       "      <td>2</td>\n",
       "      <td>9</td>\n",
       "      <td>12</td>\n",
       "      <td>14</td>\n",
       "      <td>19</td>\n",
       "      <td>21</td>\n",
       "      <td>24</td>\n",
       "      <td>28</td>\n",
       "      <td>30</td>\n",
       "      <td>32</td>\n",
       "      <td>4567.75</td>\n",
       "      <td>-41</td>\n",
       "      <td>90</td>\n",
       "      <td>0.75</td>\n",
       "    </tr>\n",
       "    <tr>\n",
       "      <th>7</th>\n",
       "      <td>2022-02-02</td>\n",
       "      <td>06:40</td>\n",
       "      <td>2</td>\n",
       "      <td>9</td>\n",
       "      <td>12</td>\n",
       "      <td>14</td>\n",
       "      <td>18</td>\n",
       "      <td>21</td>\n",
       "      <td>24</td>\n",
       "      <td>28</td>\n",
       "      <td>30</td>\n",
       "      <td>32</td>\n",
       "      <td>4568.75</td>\n",
       "      <td>-20</td>\n",
       "      <td>96</td>\n",
       "      <td>1.75</td>\n",
       "    </tr>\n",
       "    <tr>\n",
       "      <th>8</th>\n",
       "      <td>2022-02-02</td>\n",
       "      <td>06:41</td>\n",
       "      <td>2</td>\n",
       "      <td>9</td>\n",
       "      <td>12</td>\n",
       "      <td>14</td>\n",
       "      <td>20</td>\n",
       "      <td>21</td>\n",
       "      <td>24</td>\n",
       "      <td>28</td>\n",
       "      <td>30</td>\n",
       "      <td>32</td>\n",
       "      <td>4567.50</td>\n",
       "      <td>-33</td>\n",
       "      <td>91</td>\n",
       "      <td>0.50</td>\n",
       "    </tr>\n",
       "    <tr>\n",
       "      <th>9</th>\n",
       "      <td>2022-02-02</td>\n",
       "      <td>06:42</td>\n",
       "      <td>4</td>\n",
       "      <td>9</td>\n",
       "      <td>12</td>\n",
       "      <td>14</td>\n",
       "      <td>19</td>\n",
       "      <td>21</td>\n",
       "      <td>24</td>\n",
       "      <td>28</td>\n",
       "      <td>30</td>\n",
       "      <td>32</td>\n",
       "      <td>4567.00</td>\n",
       "      <td>-43</td>\n",
       "      <td>89</td>\n",
       "      <td>0.00</td>\n",
       "    </tr>\n",
       "    <tr>\n",
       "      <th>10</th>\n",
       "      <td>2022-02-02</td>\n",
       "      <td>06:43</td>\n",
       "      <td>4</td>\n",
       "      <td>9</td>\n",
       "      <td>12</td>\n",
       "      <td>14</td>\n",
       "      <td>19</td>\n",
       "      <td>21</td>\n",
       "      <td>24</td>\n",
       "      <td>28</td>\n",
       "      <td>30</td>\n",
       "      <td>32</td>\n",
       "      <td>4566.75</td>\n",
       "      <td>-50</td>\n",
       "      <td>88</td>\n",
       "      <td>-0.25</td>\n",
       "    </tr>\n",
       "  </tbody>\n",
       "</table>\n",
       "</div>"
      ],
      "text/plain": [
       "        FECHA   HORA  5MIN  30MIN  4HR  DIA  5MIN.1  30 MIN  4HR.1  DIA.1  \\\n",
       "1  2022-02-02  06:34     2      9   12   14      18      21     24     28   \n",
       "2  2022-02-02  06:35     5      9   12   14      19      21     24     28   \n",
       "3  2022-02-02  06:36     2      9   12   14      20      21     24     28   \n",
       "4  2022-02-02  06:37     2      9   12   14      18      21     24     28   \n",
       "5  2022-02-02  06:38     2      9   12   14      19      21     24     28   \n",
       "6  2022-02-02  06:39     2      9   12   14      19      21     24     28   \n",
       "7  2022-02-02  06:40     2      9   12   14      18      21     24     28   \n",
       "8  2022-02-02  06:41     2      9   12   14      20      21     24     28   \n",
       "9  2022-02-02  06:42     4      9   12   14      19      21     24     28   \n",
       "10 2022-02-02  06:43     4      9   12   14      19      21     24     28   \n",
       "\n",
       "    CCI5MIN  CCI30MIN   PRECIO  CCI5MIN.1  CCI30MIN.1  RENTABILIDAD  \n",
       "1        30        32  4568.00        -60          89          1.00  \n",
       "2        30        32  4567.75        -46          88          0.75  \n",
       "3        30        32  4568.00        -39          91          1.00  \n",
       "4        30        32  4568.25        -36          92          1.25  \n",
       "5        30        32  4567.75        -41          90          0.75  \n",
       "6        30        32  4567.75        -41          90          0.75  \n",
       "7        30        32  4568.75        -20          96          1.75  \n",
       "8        30        32  4567.50        -33          91          0.50  \n",
       "9        30        32  4567.00        -43          89          0.00  \n",
       "10       30        32  4566.75        -50          88         -0.25  "
      ]
     },
     "execution_count": 59,
     "metadata": {},
     "output_type": "execute_result"
    }
   ],
   "source": [
    "datos2.head(10)"
   ]
  },
  {
   "cell_type": "code",
   "execution_count": 56,
   "id": "a827b79f",
   "metadata": {},
   "outputs": [],
   "source": [
    "datos2 = datos2.dropna()"
   ]
  },
  {
   "cell_type": "code",
   "execution_count": 58,
   "id": "9988194a",
   "metadata": {},
   "outputs": [
    {
     "data": {
      "text/html": [
       "<div>\n",
       "<style scoped>\n",
       "    .dataframe tbody tr th:only-of-type {\n",
       "        vertical-align: middle;\n",
       "    }\n",
       "\n",
       "    .dataframe tbody tr th {\n",
       "        vertical-align: top;\n",
       "    }\n",
       "\n",
       "    .dataframe thead th {\n",
       "        text-align: right;\n",
       "    }\n",
       "</style>\n",
       "<table border=\"1\" class=\"dataframe\">\n",
       "  <thead>\n",
       "    <tr style=\"text-align: right;\">\n",
       "      <th></th>\n",
       "      <th>FECHA</th>\n",
       "      <th>HORA</th>\n",
       "      <th>5MIN</th>\n",
       "      <th>30MIN</th>\n",
       "      <th>4HR</th>\n",
       "      <th>DIA</th>\n",
       "      <th>5MIN.1</th>\n",
       "      <th>30 MIN</th>\n",
       "      <th>4HR.1</th>\n",
       "      <th>DIA.1</th>\n",
       "      <th>CCI5MIN</th>\n",
       "      <th>CCI30MIN</th>\n",
       "      <th>PRECIO</th>\n",
       "      <th>CCI5MIN.1</th>\n",
       "      <th>CCI30MIN.1</th>\n",
       "      <th>RENTABILIDAD</th>\n",
       "    </tr>\n",
       "  </thead>\n",
       "  <tbody>\n",
       "    <tr>\n",
       "      <th>1</th>\n",
       "      <td>2022-02-02</td>\n",
       "      <td>06:34</td>\n",
       "      <td>2</td>\n",
       "      <td>9</td>\n",
       "      <td>12</td>\n",
       "      <td>14</td>\n",
       "      <td>18</td>\n",
       "      <td>21</td>\n",
       "      <td>24</td>\n",
       "      <td>28</td>\n",
       "      <td>30</td>\n",
       "      <td>32</td>\n",
       "      <td>4568.00</td>\n",
       "      <td>-60</td>\n",
       "      <td>89</td>\n",
       "      <td>1.00</td>\n",
       "    </tr>\n",
       "    <tr>\n",
       "      <th>2</th>\n",
       "      <td>2022-02-02</td>\n",
       "      <td>06:35</td>\n",
       "      <td>5</td>\n",
       "      <td>9</td>\n",
       "      <td>12</td>\n",
       "      <td>14</td>\n",
       "      <td>19</td>\n",
       "      <td>21</td>\n",
       "      <td>24</td>\n",
       "      <td>28</td>\n",
       "      <td>30</td>\n",
       "      <td>32</td>\n",
       "      <td>4567.75</td>\n",
       "      <td>-46</td>\n",
       "      <td>88</td>\n",
       "      <td>0.75</td>\n",
       "    </tr>\n",
       "    <tr>\n",
       "      <th>3</th>\n",
       "      <td>2022-02-02</td>\n",
       "      <td>06:36</td>\n",
       "      <td>2</td>\n",
       "      <td>9</td>\n",
       "      <td>12</td>\n",
       "      <td>14</td>\n",
       "      <td>20</td>\n",
       "      <td>21</td>\n",
       "      <td>24</td>\n",
       "      <td>28</td>\n",
       "      <td>30</td>\n",
       "      <td>32</td>\n",
       "      <td>4568.00</td>\n",
       "      <td>-39</td>\n",
       "      <td>91</td>\n",
       "      <td>1.00</td>\n",
       "    </tr>\n",
       "    <tr>\n",
       "      <th>4</th>\n",
       "      <td>2022-02-02</td>\n",
       "      <td>06:37</td>\n",
       "      <td>2</td>\n",
       "      <td>9</td>\n",
       "      <td>12</td>\n",
       "      <td>14</td>\n",
       "      <td>18</td>\n",
       "      <td>21</td>\n",
       "      <td>24</td>\n",
       "      <td>28</td>\n",
       "      <td>30</td>\n",
       "      <td>32</td>\n",
       "      <td>4568.25</td>\n",
       "      <td>-36</td>\n",
       "      <td>92</td>\n",
       "      <td>1.25</td>\n",
       "    </tr>\n",
       "    <tr>\n",
       "      <th>5</th>\n",
       "      <td>2022-02-02</td>\n",
       "      <td>06:38</td>\n",
       "      <td>2</td>\n",
       "      <td>9</td>\n",
       "      <td>12</td>\n",
       "      <td>14</td>\n",
       "      <td>19</td>\n",
       "      <td>21</td>\n",
       "      <td>24</td>\n",
       "      <td>28</td>\n",
       "      <td>30</td>\n",
       "      <td>32</td>\n",
       "      <td>4567.75</td>\n",
       "      <td>-41</td>\n",
       "      <td>90</td>\n",
       "      <td>0.75</td>\n",
       "    </tr>\n",
       "    <tr>\n",
       "      <th>6</th>\n",
       "      <td>2022-02-02</td>\n",
       "      <td>06:39</td>\n",
       "      <td>2</td>\n",
       "      <td>9</td>\n",
       "      <td>12</td>\n",
       "      <td>14</td>\n",
       "      <td>19</td>\n",
       "      <td>21</td>\n",
       "      <td>24</td>\n",
       "      <td>28</td>\n",
       "      <td>30</td>\n",
       "      <td>32</td>\n",
       "      <td>4567.75</td>\n",
       "      <td>-41</td>\n",
       "      <td>90</td>\n",
       "      <td>0.75</td>\n",
       "    </tr>\n",
       "    <tr>\n",
       "      <th>7</th>\n",
       "      <td>2022-02-02</td>\n",
       "      <td>06:40</td>\n",
       "      <td>2</td>\n",
       "      <td>9</td>\n",
       "      <td>12</td>\n",
       "      <td>14</td>\n",
       "      <td>18</td>\n",
       "      <td>21</td>\n",
       "      <td>24</td>\n",
       "      <td>28</td>\n",
       "      <td>30</td>\n",
       "      <td>32</td>\n",
       "      <td>4568.75</td>\n",
       "      <td>-20</td>\n",
       "      <td>96</td>\n",
       "      <td>1.75</td>\n",
       "    </tr>\n",
       "  </tbody>\n",
       "</table>\n",
       "</div>"
      ],
      "text/plain": [
       "       FECHA   HORA  5MIN  30MIN  4HR  DIA  5MIN.1  30 MIN  4HR.1  DIA.1  \\\n",
       "1 2022-02-02  06:34     2      9   12   14      18      21     24     28   \n",
       "2 2022-02-02  06:35     5      9   12   14      19      21     24     28   \n",
       "3 2022-02-02  06:36     2      9   12   14      20      21     24     28   \n",
       "4 2022-02-02  06:37     2      9   12   14      18      21     24     28   \n",
       "5 2022-02-02  06:38     2      9   12   14      19      21     24     28   \n",
       "6 2022-02-02  06:39     2      9   12   14      19      21     24     28   \n",
       "7 2022-02-02  06:40     2      9   12   14      18      21     24     28   \n",
       "\n",
       "   CCI5MIN  CCI30MIN   PRECIO  CCI5MIN.1  CCI30MIN.1  RENTABILIDAD  \n",
       "1       30        32  4568.00        -60          89          1.00  \n",
       "2       30        32  4567.75        -46          88          0.75  \n",
       "3       30        32  4568.00        -39          91          1.00  \n",
       "4       30        32  4568.25        -36          92          1.25  \n",
       "5       30        32  4567.75        -41          90          0.75  \n",
       "6       30        32  4567.75        -41          90          0.75  \n",
       "7       30        32  4568.75        -20          96          1.75  "
      ]
     },
     "execution_count": 58,
     "metadata": {},
     "output_type": "execute_result"
    }
   ],
   "source": [
    "datos2.head(7)"
   ]
  },
  {
   "cell_type": "code",
   "execution_count": 61,
   "id": "978a2047",
   "metadata": {},
   "outputs": [
    {
     "data": {
      "text/plain": [
       "<AxesSubplot:>"
      ]
     },
     "execution_count": 61,
     "metadata": {},
     "output_type": "execute_result"
    },
    {
     "data": {
      "image/png": "[encoded data removed]",
      "text/plain": [
       "<Figure size 1080x360 with 1 Axes>"
      ]
     },
     "metadata": {
      "needs_background": "light"
     },
     "output_type": "display_data"
    }
   ],
   "source": [
    "datos2['PRECIO'].plot(figsize=(15, 5))"
   ]
  },
  {
   "cell_type": "code",
   "execution_count": 62,
   "id": "42b0f33f",
   "metadata": {},
   "outputs": [],
   "source": [
    "fecha2 = datos2['FECHA']\n",
    "hora2 = datos2['HORA']"
   ]
  },
  {
   "cell_type": "code",
   "execution_count": 63,
   "id": "bbca2757",
   "metadata": {},
   "outputs": [],
   "source": [
    "dataset2 = datos2.drop(['FECHA', 'HORA'], axis=1)"
   ]
  },
  {
   "cell_type": "markdown",
   "id": "93f3ca3e",
   "metadata": {},
   "source": [
    "### preparando los datos para el modelo de clasificación"
   ]
  },
  {
   "cell_type": "code",
   "execution_count": 71,
   "id": "ecffeb93",
   "metadata": {},
   "outputs": [],
   "source": [
    "# escalando los datos\n",
    "X2_tf = scaler.transform(dataset2)"
   ]
  },
  {
   "cell_type": "code",
   "execution_count": 72,
   "id": "c3e4aa82",
   "metadata": {},
   "outputs": [],
   "source": [
    "# aplicando el modelo de clasificación\n",
    "y_pred = clf.predict(X_tf)\n",
    "y_proba = clf.predict_proba(X_tf)"
   ]
  },
  {
   "cell_type": "code",
   "execution_count": 74,
   "id": "0ea49d66",
   "metadata": {},
   "outputs": [
    {
     "data": {
      "text/plain": [
       "array([[0.245, 0.71 , 0.045],\n",
       "       [0.175, 0.81 , 0.015],\n",
       "       [0.155, 0.835, 0.01 ],\n",
       "       ...,\n",
       "       [0.02 , 0.005, 0.975],\n",
       "       [0.035, 0.015, 0.95 ],\n",
       "       [0.02 , 0.005, 0.975]])"
      ]
     },
     "execution_count": 74,
     "metadata": {},
     "output_type": "execute_result"
    }
   ],
   "source": [
    "y_proba"
   ]
  },
  {
   "cell_type": "code",
   "execution_count": 24,
   "id": "d77acbf3",
   "metadata": {},
   "outputs": [
    {
     "data": {
      "text/plain": [
       "7       0\n",
       "8       0\n",
       "9       0\n",
       "10      0\n",
       "11      0\n",
       "       ..\n",
       "9987    1\n",
       "9988    1\n",
       "9989    1\n",
       "9990    1\n",
       "9991    1\n",
       "Name: Unnamed: 16, Length: 9931, dtype: int64"
      ]
     },
     "execution_count": 24,
     "metadata": {},
     "output_type": "execute_result"
    }
   ],
   "source": []
  },
  {
   "cell_type": "code",
   "execution_count": 92,
   "id": "d198f495",
   "metadata": {},
   "outputs": [
    {
     "data": {
      "text/plain": [
       "(array([[0.01 , 0.   , 0.99 ],\n",
       "        [0.01 , 0.01 , 0.98 ],\n",
       "        [0.77 , 0.115, 0.115],\n",
       "        [0.765, 0.02 , 0.215],\n",
       "        [0.02 , 0.395, 0.585],\n",
       "        [0.025, 0.   , 0.975],\n",
       "        [0.   , 0.005, 0.995],\n",
       "        [0.94 , 0.04 , 0.02 ],\n",
       "        [0.   , 0.03 , 0.97 ],\n",
       "        [1.   , 0.   , 0.   ]]),\n",
       " array([ 1,  1, -1, -1,  1,  1,  1, -1,  1, -1], dtype=int64))"
      ]
     },
     "execution_count": 92,
     "metadata": {},
     "output_type": "execute_result"
    }
   ],
   "source": [
    "y_test_proba[0:10], y_pred_test[0:10]"
   ]
  },
  {
   "cell_type": "code",
   "execution_count": 94,
   "id": "94d1f5d3",
   "metadata": {},
   "outputs": [
    {
     "data": {
      "text/plain": [
       "1987"
      ]
     },
     "execution_count": 94,
     "metadata": {},
     "output_type": "execute_result"
    }
   ],
   "source": [
    "len(y_test_proba[:, 1])"
   ]
  },
  {
   "cell_type": "code",
   "execution_count": 14,
   "id": "5b982706",
   "metadata": {},
   "outputs": [
    {
     "name": "stdout",
     "output_type": "stream",
     "text": [
      "(1987,) (1987,) (7944,) (7944,)\n"
     ]
    }
   ],
   "source": [
    "thresh = 0.5\n",
    "print(y_test.shape, y_pred_test.shape, y_train.shape, y_pred_train.shape)"
   ]
  },
  {
   "cell_type": "code",
   "execution_count": 15,
   "id": "f2a3bb81",
   "metadata": {},
   "outputs": [
    {
     "name": "stdout",
     "output_type": "stream",
     "text": [
      "              precision    recall  f1-score   support\n",
      "\n",
      "    class -1       1.00      1.00      1.00      3564\n",
      "     class 0       1.00      1.00      1.00      1200\n",
      "     class 1       1.00      1.00      1.00      3180\n",
      "\n",
      "    accuracy                           1.00      7944\n",
      "   macro avg       1.00      1.00      1.00      7944\n",
      "weighted avg       1.00      1.00      1.00      7944\n",
      "\n"
     ]
    }
   ],
   "source": [
    "target_names = ['class -1', 'class 0', 'class 1']\n",
    "print(classification_report(y_train, y_pred_train, target_names=target_names))"
   ]
  },
  {
   "cell_type": "code",
   "execution_count": 67,
   "id": "3812f83d",
   "metadata": {},
   "outputs": [
    {
     "name": "stdout",
     "output_type": "stream",
     "text": [
      "              precision    recall  f1-score   support\n",
      "\n",
      "    class -1       0.97      0.97      0.97       907\n",
      "     class 0       0.92      0.93      0.93       288\n",
      "     class 1       0.96      0.96      0.96       792\n",
      "\n",
      "    accuracy                           0.96      1987\n",
      "   macro avg       0.95      0.95      0.95      1987\n",
      "weighted avg       0.96      0.96      0.96      1987\n",
      "\n"
     ]
    }
   ],
   "source": [
    "target_names = ['class -1', 'class 0', 'class 1']\n",
    "print(classification_report(y_test, y_pred_test, target_names=target_names))"
   ]
  },
  {
   "cell_type": "code",
   "execution_count": 16,
   "id": "536d5ab5",
   "metadata": {},
   "outputs": [
    {
     "data": {
      "text/plain": [
       "array([[[4379,    1],\n",
       "        [   0, 3564]],\n",
       "\n",
       "       [[6744,    0],\n",
       "        [   1, 1199]],\n",
       "\n",
       "       [[4763,    1],\n",
       "        [   1, 3179]]], dtype=int64)"
      ]
     },
     "execution_count": 16,
     "metadata": {},
     "output_type": "execute_result"
    }
   ],
   "source": [
    "multilabel_confusion_matrix(y_train, y_pred_train)"
   ]
  },
  {
   "cell_type": "code",
   "execution_count": 17,
   "id": "b4fbbbdc",
   "metadata": {},
   "outputs": [
    {
     "data": {
      "text/plain": [
       "array([[[1064,   18],\n",
       "        [  31,  874]],\n",
       "\n",
       "       [[1668,   10],\n",
       "        [  12,  297]],\n",
       "\n",
       "       [[1180,   34],\n",
       "        [  19,  754]]], dtype=int64)"
      ]
     },
     "execution_count": 17,
     "metadata": {},
     "output_type": "execute_result"
    }
   ],
   "source": [
    "multilabel_confusion_matrix(y_test, y_pred_test)"
   ]
  },
  {
   "cell_type": "code",
   "execution_count": 18,
   "id": "ca24f674",
   "metadata": {},
   "outputs": [],
   "source": [
    "# fpr_test_rf, tpr_test_rf, thresholds_test_rf = roc_curve(y_test, y_pred_test)\n",
    "# auc_test_rf = roc_auc_score(y_test, y_pred_test)"
   ]
  },
  {
   "cell_type": "code",
   "execution_count": 19,
   "id": "fadbc4f3",
   "metadata": {},
   "outputs": [],
   "source": [
    "# print('Random Forest Classifier')\n",
    "\n",
    "# print('Entrenamiento:')\n",
    "# rf_train_auc, rf_train_accuracy, rf_train_recall, rf_train_precision, rf_train_specificity = print_report(y_train, y_pred_train, thresh)\n",
    "\n",
    "# print('Test:')\n",
    "# rf_valid_auc, rf_valid_accuracy, rf_valid_recall, rf_valid_precision, rf_valid_specificity = print_report(y_test, y_pred_test, thresh)"
   ]
  },
  {
   "cell_type": "code",
   "execution_count": 20,
   "id": "58626882",
   "metadata": {},
   "outputs": [],
   "source": [
    "# auc = roc_auc_score(y_test, y_pred_test, multi_class=\"ovo\",average=Macro)"
   ]
  },
  {
   "cell_type": "code",
   "execution_count": 26,
   "id": "28af3349",
   "metadata": {},
   "outputs": [
    {
     "data": {
      "text/plain": [
       "<AxesSubplot:>"
      ]
     },
     "execution_count": 26,
     "metadata": {},
     "output_type": "execute_result"
    },
    {
     "data": {
      "image/png": "[encoded data removed]",
      "text/plain": [
       "<Figure size 432x288 with 1 Axes>"
      ]
     },
     "metadata": {
      "needs_background": "light"
     },
     "output_type": "display_data"
    }
   ],
   "source": [
    "pd.Series(y_pred_test).hist()"
   ]
  },
  {
   "cell_type": "code",
   "execution_count": 29,
   "id": "a62a14f6",
   "metadata": {},
   "outputs": [
    {
     "data": {
      "text/plain": [
       "((7944,), (1987,), (7944,))"
      ]
     },
     "execution_count": 29,
     "metadata": {},
     "output_type": "execute_result"
    }
   ],
   "source": [
    "y_train.shape, y_test.shape, y_pred_train.shape"
   ]
  },
  {
   "cell_type": "code",
   "execution_count": 35,
   "id": "d67d2414",
   "metadata": {},
   "outputs": [],
   "source": [
    "result_test = pd.DataFrame()\n",
    "result_train = pd.DataFrame()"
   ]
  },
  {
   "cell_type": "code",
   "execution_count": null,
   "id": "5cefc62f",
   "metadata": {},
   "outputs": [],
   "source": []
  },
  {
   "cell_type": "code",
   "execution_count": 34,
   "id": "b636502e",
   "metadata": {},
   "outputs": [
    {
     "data": {
      "text/plain": [
       "array([[<AxesSubplot:title={'center':'test'}>,\n",
       "        <AxesSubplot:title={'center':'pred_test'}>]], dtype=object)"
      ]
     },
     "execution_count": 34,
     "metadata": {},
     "output_type": "execute_result"
    },
    {
     "data": {
      "image/png": "[encoded data removed]",
      "text/plain": [
       "<Figure size 1080x360 with 2 Axes>"
      ]
     },
     "metadata": {
      "needs_background": "light"
     },
     "output_type": "display_data"
    }
   ],
   "source": [
    "result_test.hist(figsize=(15,5))"
   ]
  },
  {
   "cell_type": "code",
   "execution_count": 37,
   "id": "e4af82fe",
   "metadata": {},
   "outputs": [
    {
     "data": {
      "text/plain": [
       "array([[<AxesSubplot:title={'center':'train'}>,\n",
       "        <AxesSubplot:title={'center':'pred_train'}>]], dtype=object)"
      ]
     },
     "execution_count": 37,
     "metadata": {},
     "output_type": "execute_result"
    },
    {
     "data": {
      "image/png": "[encoded data removed]",
      "text/plain": [
       "<Figure size 1080x360 with 2 Axes>"
      ]
     },
     "metadata": {
      "needs_background": "light"
     },
     "output_type": "display_data"
    }
   ],
   "source": [
    "result_train.hist(figsize=(15,5))"
   ]
  },
  {
   "cell_type": "code",
   "execution_count": 49,
   "id": "5bef3926",
   "metadata": {},
   "outputs": [
    {
     "data": {
      "text/html": [
       "<div>\n",
       "<style scoped>\n",
       "    .dataframe tbody tr th:only-of-type {\n",
       "        vertical-align: middle;\n",
       "    }\n",
       "\n",
       "    .dataframe tbody tr th {\n",
       "        vertical-align: top;\n",
       "    }\n",
       "\n",
       "    .dataframe thead th {\n",
       "        text-align: right;\n",
       "    }\n",
       "</style>\n",
       "<table border=\"1\" class=\"dataframe\">\n",
       "  <thead>\n",
       "    <tr style=\"text-align: right;\">\n",
       "      <th></th>\n",
       "      <th>Unnamed: 2</th>\n",
       "      <th>Unnamed: 3</th>\n",
       "      <th>Unnamed: 4</th>\n",
       "      <th>Unnamed: 5</th>\n",
       "      <th>Unnamed: 6</th>\n",
       "      <th>Unnamed: 7</th>\n",
       "      <th>Unnamed: 8</th>\n",
       "      <th>Unnamed: 9</th>\n",
       "      <th>Unnamed: 10</th>\n",
       "      <th>Unnamed: 11</th>\n",
       "      <th>Unnamed: 12</th>\n",
       "      <th>Unnamed: 13</th>\n",
       "      <th>Unnamed: 14</th>\n",
       "      <th>Unnamed: 15</th>\n",
       "    </tr>\n",
       "  </thead>\n",
       "  <tbody>\n",
       "    <tr>\n",
       "      <th>7750</th>\n",
       "      <td>3</td>\n",
       "      <td>6</td>\n",
       "      <td>10</td>\n",
       "      <td>14</td>\n",
       "      <td>18</td>\n",
       "      <td>21</td>\n",
       "      <td>24</td>\n",
       "      <td>27</td>\n",
       "      <td>30</td>\n",
       "      <td>32</td>\n",
       "      <td>4414.75</td>\n",
       "      <td>110</td>\n",
       "      <td>131</td>\n",
       "      <td>-354.00</td>\n",
       "    </tr>\n",
       "    <tr>\n",
       "      <th>8142</th>\n",
       "      <td>3</td>\n",
       "      <td>7</td>\n",
       "      <td>13</td>\n",
       "      <td>14</td>\n",
       "      <td>19</td>\n",
       "      <td>22</td>\n",
       "      <td>24</td>\n",
       "      <td>27</td>\n",
       "      <td>31</td>\n",
       "      <td>32</td>\n",
       "      <td>4412.00</td>\n",
       "      <td>-105</td>\n",
       "      <td>67</td>\n",
       "      <td>-356.75</td>\n",
       "    </tr>\n",
       "    <tr>\n",
       "      <th>6670</th>\n",
       "      <td>3</td>\n",
       "      <td>7</td>\n",
       "      <td>11</td>\n",
       "      <td>16</td>\n",
       "      <td>19</td>\n",
       "      <td>22</td>\n",
       "      <td>25</td>\n",
       "      <td>28</td>\n",
       "      <td>31</td>\n",
       "      <td>33</td>\n",
       "      <td>4354.25</td>\n",
       "      <td>-136</td>\n",
       "      <td>-149</td>\n",
       "      <td>-414.50</td>\n",
       "    </tr>\n",
       "    <tr>\n",
       "      <th>4254</th>\n",
       "      <td>5</td>\n",
       "      <td>9</td>\n",
       "      <td>11</td>\n",
       "      <td>15</td>\n",
       "      <td>18</td>\n",
       "      <td>23</td>\n",
       "      <td>25</td>\n",
       "      <td>28</td>\n",
       "      <td>31</td>\n",
       "      <td>33</td>\n",
       "      <td>4587.75</td>\n",
       "      <td>-94</td>\n",
       "      <td>-147</td>\n",
       "      <td>-181.00</td>\n",
       "    </tr>\n",
       "    <tr>\n",
       "      <th>842</th>\n",
       "      <td>5</td>\n",
       "      <td>9</td>\n",
       "      <td>11</td>\n",
       "      <td>17</td>\n",
       "      <td>18</td>\n",
       "      <td>22</td>\n",
       "      <td>25</td>\n",
       "      <td>28</td>\n",
       "      <td>30</td>\n",
       "      <td>32</td>\n",
       "      <td>4780.75</td>\n",
       "      <td>18</td>\n",
       "      <td>50</td>\n",
       "      <td>12.00</td>\n",
       "    </tr>\n",
       "    <tr>\n",
       "      <th>799</th>\n",
       "      <td>2</td>\n",
       "      <td>7</td>\n",
       "      <td>13</td>\n",
       "      <td>17</td>\n",
       "      <td>18</td>\n",
       "      <td>22</td>\n",
       "      <td>25</td>\n",
       "      <td>28</td>\n",
       "      <td>31</td>\n",
       "      <td>32</td>\n",
       "      <td>4778.50</td>\n",
       "      <td>-109</td>\n",
       "      <td>36</td>\n",
       "      <td>9.75</td>\n",
       "    </tr>\n",
       "  </tbody>\n",
       "</table>\n",
       "</div>"
      ],
      "text/plain": [
       "      Unnamed: 2  Unnamed: 3  Unnamed: 4  Unnamed: 5  Unnamed: 6  Unnamed: 7  \\\n",
       "7750           3           6          10          14          18          21   \n",
       "8142           3           7          13          14          19          22   \n",
       "6670           3           7          11          16          19          22   \n",
       "4254           5           9          11          15          18          23   \n",
       "842            5           9          11          17          18          22   \n",
       "799            2           7          13          17          18          22   \n",
       "\n",
       "      Unnamed: 8  Unnamed: 9  Unnamed: 10  Unnamed: 11  Unnamed: 12  \\\n",
       "7750          24          27           30           32      4414.75   \n",
       "8142          24          27           31           32      4412.00   \n",
       "6670          25          28           31           33      4354.25   \n",
       "4254          25          28           31           33      4587.75   \n",
       "842           25          28           30           32      4780.75   \n",
       "799           25          28           31           32      4778.50   \n",
       "\n",
       "      Unnamed: 13  Unnamed: 14  Unnamed: 15  \n",
       "7750          110          131      -354.00  \n",
       "8142         -105           67      -356.75  \n",
       "6670         -136         -149      -414.50  \n",
       "4254          -94         -147      -181.00  \n",
       "842            18           50        12.00  \n",
       "799          -109           36         9.75  "
      ]
     },
     "execution_count": 49,
     "metadata": {},
     "output_type": "execute_result"
    }
   ],
   "source": [
    "X_test.loc[[7750, 8142, 6670, 4254, 842, 799]]"
   ]
  },
  {
   "cell_type": "code",
   "execution_count": 50,
   "id": "50088639",
   "metadata": {},
   "outputs": [
    {
     "data": {
      "text/plain": [
       "7750    1\n",
       "8142    1\n",
       "6670   -1\n",
       "4254   -1\n",
       "842     0\n",
       "799     0\n",
       "Name: Unnamed: 16, dtype: int64"
      ]
     },
     "execution_count": 50,
     "metadata": {},
     "output_type": "execute_result"
    }
   ],
   "source": [
    "y_test.loc[[7750, 8142, 6670, 4254, 842, 799]]"
   ]
  },
  {
   "cell_type": "code",
   "execution_count": 52,
   "id": "9e586e9c",
   "metadata": {},
   "outputs": [
    {
     "data": {
      "text/plain": [
       "array([ 1,  1, -1, -1,  0,  0], dtype=int64)"
      ]
     },
     "execution_count": 52,
     "metadata": {},
     "output_type": "execute_result"
    }
   ],
   "source": [
    "# normaliza los datos. tf: transformados o escalados\n",
    "# X_ex = scaler.transform(X_train)\n",
    "X_ex = scaler.transform(X_test.loc[[7750, 8142, 6670, 4254, 842, 799]])\n",
    "\n",
    "# aplicación de modelo\n",
    "y_ex = clf.predict(X_ex)\n",
    "y_ex"
   ]
  },
  {
   "cell_type": "code",
   "execution_count": 1,
   "id": "4c14e7d9",
   "metadata": {},
   "outputs": [
    {
     "ename": "NameError",
     "evalue": "name 'confusion_matrix' is not defined",
     "output_type": "error",
     "traceback": [
      "\u001b[1;31m---------------------------------------------------------------------------\u001b[0m",
      "\u001b[1;31mNameError\u001b[0m                                 Traceback (most recent call last)",
      "\u001b[1;32m<ipython-input-1-a4b5936b6ce4>\u001b[0m in \u001b[0;36m<module>\u001b[1;34m\u001b[0m\n\u001b[1;32m----> 1\u001b[1;33m \u001b[0mconfusion\u001b[0m \u001b[1;33m=\u001b[0m \u001b[0mconfusion_matrix\u001b[0m\u001b[1;33m(\u001b[0m\u001b[0my_pred_test\u001b[0m\u001b[1;33m,\u001b[0m \u001b[0my_test\u001b[0m\u001b[1;33m)\u001b[0m\u001b[1;33m\u001b[0m\u001b[1;33m\u001b[0m\u001b[0m\n\u001b[0m\u001b[0;32m      2\u001b[0m \u001b[0mprint\u001b[0m\u001b[1;33m(\u001b[0m\u001b[1;34m'Confusion Matrix\\n'\u001b[0m\u001b[1;33m)\u001b[0m\u001b[1;33m\u001b[0m\u001b[1;33m\u001b[0m\u001b[0m\n\u001b[0;32m      3\u001b[0m \u001b[0mprint\u001b[0m\u001b[1;33m(\u001b[0m\u001b[0mconfusion\u001b[0m\u001b[1;33m)\u001b[0m\u001b[1;33m\u001b[0m\u001b[1;33m\u001b[0m\u001b[0m\n",
      "\u001b[1;31mNameError\u001b[0m: name 'confusion_matrix' is not defined"
     ]
    }
   ],
   "source": [
    "confusion = confusion_matrix(y_pred_test, y_test)\n",
    "print('Confusion Matrix\\n')\n",
    "print(confusion)"
   ]
  },
  {
   "cell_type": "code",
   "execution_count": null,
   "id": "59edba4d",
   "metadata": {},
   "outputs": [],
   "source": []
  },
  {
   "cell_type": "code",
   "execution_count": 64,
   "id": "1ac2e8ec",
   "metadata": {},
   "outputs": [],
   "source": [
    "# # GradientBoosterClassifier\n",
    "\n",
    "gbc = GradientBoostingClassifier(n_estimators=100, learning_rate=1.0, max_depth=1, random_state=0)\n",
    "gbc.fit(X_train_tf, y_train)\n",
    "# Previsiones \n",
    "y_train_preds_gbc = gbc.predict(X_train_tf)\n",
    "y_test_preds_gbc = gbc.predict(X_test_tf)"
   ]
  },
  {
   "cell_type": "code",
   "execution_count": 65,
   "id": "4b126da2",
   "metadata": {},
   "outputs": [],
   "source": [
    "result_test_gbc = pd.DataFrame()\n",
    "result_train_gbc = pd.DataFrame()"
   ]
  },
  {
   "cell_type": "code",
   "execution_count": 66,
   "id": "136c0bb7",
   "metadata": {},
   "outputs": [],
   "source": [
    "result_test_gbc ['test'] = y_test\n",
    "result_test_gbc ['pred_test'] = y_test_preds_gbc\n",
    "\n",
    "result_train_gbc ['train'] = y_train\n",
    "result_train_gbc ['pred_train'] = y_train_preds_gbc"
   ]
  },
  {
   "cell_type": "code",
   "execution_count": 67,
   "id": "da79710e",
   "metadata": {},
   "outputs": [
    {
     "data": {
      "text/plain": [
       "array([[<AxesSubplot:title={'center':'test'}>,\n",
       "        <AxesSubplot:title={'center':'pred_test'}>]], dtype=object)"
      ]
     },
     "execution_count": 67,
     "metadata": {},
     "output_type": "execute_result"
    },
    {
     "data": {
      "image/png": "[encoded data removed]",
      "text/plain": [
       "<Figure size 1080x360 with 2 Axes>"
      ]
     },
     "metadata": {
      "needs_background": "light"
     },
     "output_type": "display_data"
    }
   ],
   "source": [
    "result_test_gbc.hist(figsize=(15, 5))"
   ]
  },
  {
   "cell_type": "code",
   "execution_count": 68,
   "id": "c6209cbd",
   "metadata": {},
   "outputs": [
    {
     "data": {
      "text/plain": [
       "array([[<AxesSubplot:title={'center':'train'}>,\n",
       "        <AxesSubplot:title={'center':'pred_train'}>]], dtype=object)"
      ]
     },
     "execution_count": 68,
     "metadata": {},
     "output_type": "execute_result"
    },
    {
     "data": {
      "image/png": "[encoded data removed]",
      "text/plain": [
       "<Figure size 1080x360 with 2 Axes>"
      ]
     },
     "metadata": {
      "needs_background": "light"
     },
     "output_type": "display_data"
    }
   ],
   "source": [
    "result_train_gbc.hist(figsize=(15, 5))"
   ]
  },
  {
   "cell_type": "code",
   "execution_count": 69,
   "id": "9dbe5e17",
   "metadata": {},
   "outputs": [
    {
     "data": {
      "text/plain": [
       "array([ 1, -1, -1, -1,  0, -1], dtype=int64)"
      ]
     },
     "execution_count": 69,
     "metadata": {},
     "output_type": "execute_result"
    }
   ],
   "source": [
    "# normaliza los datos. tf: transformados o escalados\n",
    "# X_ex = scaler.transform(X_train)\n",
    "X_ex = scaler.transform(X_test.loc[[7750, 8142, 6670, 4254, 842, 799]])\n",
    "\n",
    "# aplicación de modelo\n",
    "y_ex = gbc.predict(X_ex)\n",
    "y_ex"
   ]
  },
  {
   "cell_type": "code",
   "execution_count": 70,
   "id": "41e014fe",
   "metadata": {},
   "outputs": [
    {
     "data": {
      "text/plain": [
       "7750    1\n",
       "8142    1\n",
       "6670   -1\n",
       "4254   -1\n",
       "842     0\n",
       "799     0\n",
       "Name: Unnamed: 16, dtype: int64"
      ]
     },
     "execution_count": 70,
     "metadata": {},
     "output_type": "execute_result"
    }
   ],
   "source": [
    "y_test.loc[[7750, 8142, 6670, 4254, 842, 799]]"
   ]
  },
  {
   "cell_type": "code",
   "execution_count": 71,
   "id": "93a4b664",
   "metadata": {},
   "outputs": [
    {
     "name": "stdout",
     "output_type": "stream",
     "text": [
      "Confusion Matrix\n",
      "\n",
      "[[789  53  74]\n",
      " [ 46 190  19]\n",
      " [ 70  66 680]]\n"
     ]
    }
   ],
   "source": [
    "confusion = confusion_matrix(y_test_preds_gbc, y_test)\n",
    "print('Confusion Matrix\\n')\n",
    "print(confusion)"
   ]
  },
  {
   "cell_type": "code",
   "execution_count": 77,
   "id": "dbd9e80c",
   "metadata": {},
   "outputs": [
    {
     "data": {
      "text/plain": [
       "<AxesSubplot:>"
      ]
     },
     "execution_count": 77,
     "metadata": {},
     "output_type": "execute_result"
    },
    {
     "data": {
      "image/png": "[encoded data removed]",
      "text/plain": [
       "<Figure size 432x288 with 2 Axes>"
      ]
     },
     "metadata": {
      "needs_background": "light"
     },
     "output_type": "display_data"
    }
   ],
   "source": [
    "sn.heatmap(confusion)"
   ]
  },
  {
   "cell_type": "code",
   "execution_count": null,
   "id": "28311966",
   "metadata": {},
   "outputs": [],
   "source": []
  },
  {
   "cell_type": "code",
   "execution_count": null,
   "id": "82d3c572",
   "metadata": {},
   "outputs": [],
   "source": []
  },
  {
   "cell_type": "code",
   "execution_count": 56,
   "id": "f7177095",
   "metadata": {},
   "outputs": [],
   "source": [
    "# Función para calcular especificidad\n",
    "def calc_specificity(y_actual, y_pred, thresh):\n",
    "    return sum((y_pred < thresh) & (y_actual == 0)) /sum(y_actual ==0)\n",
    "\n",
    "# Función para generar reporte de métricas\n",
    "def print_report(y_actual, y_pred, thresh):\n",
    "    \n",
    "#     auc = roc_auc_score(y_actual, y_pred)\n",
    "    accuracy = accuracy_score(y_actual, (y_pred > thresh))\n",
    "    recall = recall_score(y_actual, (y_pred > thresh))\n",
    "    precision = precision_score(y_actual, (y_pred > thresh))\n",
    "    specificity = calc_specificity(y_actual, y_pred, thresh)\n",
    "    print('AUC:%.3f'%auc)\n",
    "    print('Acuracia:%.3f'%accuracy)\n",
    "    print('Recall:%.3f'%recall)\n",
    "    print('Precisão:%.3f'%precision)\n",
    "    print('Especificidade:%.3f'%specificity)\n",
    "    print(' ')\n",
    "    return auc, accuracy, recall, precision, specificity "
   ]
  },
  {
   "cell_type": "code",
   "execution_count": null,
   "id": "82de3be4",
   "metadata": {},
   "outputs": [],
   "source": [
    "def entropy(probs):\n",
    "    "
   ]
  }
 ],
 "metadata": {
  "kernelspec": {
   "display_name": "Python 3",
   "language": "python",
   "name": "python3"
  },
  "language_info": {
   "codemirror_mode": {
    "name": "ipython",
    "version": 3
   },
   "file_extension": ".py",
   "mimetype": "text/x-python",
   "name": "python",
   "nbconvert_exporter": "python",
   "pygments_lexer": "ipython3",
   "version": "3.8.8"
  }
 },
 "nbformat": 4,
 "nbformat_minor": 5
}
