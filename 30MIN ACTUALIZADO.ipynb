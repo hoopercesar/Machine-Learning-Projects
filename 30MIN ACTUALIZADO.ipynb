{
 "cells": [
  {
   "cell_type": "code",
   "execution_count": 1,
   "id": "2ea30109",
   "metadata": {},
   "outputs": [],
   "source": [
    "# imports\n",
    "\n",
    "import numpy as np\n",
    "import pandas as pd\n",
    "import matplotlib.pyplot as plt\n",
    "import os\n",
    "import cv2\n",
    "\n",
    "# from statsmodels.graphics.tsaplots import plot_acf\n",
    "# from statsmodels.tsa.stattools import adfuller\n",
    "# from scipy.ndimage.interpolation import shift\n",
    "\n",
    "from sklearn.preprocessing import StandardScaler\n",
    "from sklearn.model_selection import train_test_split\n",
    "from sklearn.ensemble import RandomForestClassifier\n",
    "from sklearn.ensemble import RandomForestRegressor\n",
    "from sklearn.neural_network import MLPClassifier\n",
    "from sklearn import metrics\n",
    "\n",
    "import statsmodels.api as sm\n",
    "from statsmodels.formula.api import ols\n",
    "\n",
    "from sklearn.metrics import confusion_matrix\n",
    "from sklearn.metrics import classification_report \n",
    "from sklearn.ensemble import GradientBoostingClassifier\n",
    "%matplotlib inline"
   ]
  },
  {
   "cell_type": "code",
   "execution_count": 2,
   "id": "99cc4fa2",
   "metadata": {},
   "outputs": [
    {
     "name": "stdout",
     "output_type": "stream",
     "text": [
      "Author: César S. Hooper/ Dezembro 2022\n",
      "\n",
      "cv2        : 4.5.4-dev\n",
      "pandas     : 1.2.4\n",
      "sklearn    : 0.24.1\n",
      "statsmodels: 0.12.2\n",
      "matplotlib : 3.3.4\n",
      "numpy      : 1.19.5\n",
      "\n",
      "Python 3.8.8\n"
     ]
    }
   ],
   "source": [
    "# Versões dos pacotes usados no notebook\n",
    "\n",
    "%reload_ext watermark\n",
    "%watermark -a \"César S. Hooper/ Dezembro 2022\" --iversions\n",
    "!python --version"
   ]
  },
  {
   "cell_type": "code",
   "execution_count": 97,
   "id": "3012ded9",
   "metadata": {},
   "outputs": [],
   "source": [
    "datos = pd.read_excel('ES time frame 30 min 2022 actualizado.xlsx', sheet_name='Hoja2')\n",
    "datos = datos.drop(['Unnamed: 0', 'Unnamed: 1', 'Unnamed: 2'], axis=1)"
   ]
  },
  {
   "cell_type": "code",
   "execution_count": 98,
   "id": "16706c48",
   "metadata": {},
   "outputs": [
    {
     "data": {
      "text/plain": [
       "Index(['LSOI Verde', 'LSOI Rojo', 'LSOI L', 'LSOI  S', 'LSOI  I', 'LSOI  O',\n",
       "       'CCI  Verde', 'CCI Rojo'],\n",
       "      dtype='object')"
      ]
     },
     "execution_count": 98,
     "metadata": {},
     "output_type": "execute_result"
    }
   ],
   "source": [
    "datos = datos.fillna(0)\n",
    "datos.head(10)\n",
    "columnas = datos.columns[1:9]\n",
    "columnas"
   ]
  },
  {
   "cell_type": "code",
   "execution_count": 102,
   "id": "e2154a30",
   "metadata": {},
   "outputs": [
    {
     "data": {
      "text/plain": [
       "[3528.0, 3552.0, 2693.0, 2577.0, 1199.0, 755.0, 3756.0, 3426.0]"
      ]
     },
     "execution_count": 102,
     "metadata": {},
     "output_type": "execute_result"
    }
   ],
   "source": [
    "k = 1\n",
    "lista1 = []\n",
    "for col in columnas:\n",
    "    lista1.append(datos[str(col)].sum()/k)\n",
    "    k += 1\n",
    "lista1"
   ]
  },
  {
   "cell_type": "code",
   "execution_count": 103,
   "id": "69c35ad2",
   "metadata": {},
   "outputs": [],
   "source": [
    "# reemplaza por 1 las opciones coloreadas\n",
    "k = 1\n",
    "for col in columnas:\n",
    "    datos[str(col)] = datos[str(col)].replace(k, 1)\n",
    "    k += 1"
   ]
  },
  {
   "cell_type": "code",
   "execution_count": 109,
   "id": "6e309fbc",
   "metadata": {},
   "outputs": [
    {
     "name": "stdout",
     "output_type": "stream",
     "text": [
      "Listas Iguales\n"
     ]
    }
   ],
   "source": [
    "k = 1\n",
    "lista2 = []\n",
    "for col in columnas:\n",
    "    lista2.append(datos[str(col)].sum())\n",
    "    k += 1\n",
    "if(lista2 == lista1): print('Listas Iguales')"
   ]
  },
  {
   "cell_type": "code",
   "execution_count": 143,
   "id": "d3c15b42",
   "metadata": {},
   "outputs": [
    {
     "data": {
      "text/plain": [
       "0        0.00\n",
       "1        0.25\n",
       "2        2.25\n",
       "3        3.75\n",
       "4        0.50\n",
       "        ...  \n",
       "7219   -21.50\n",
       "7220     3.75\n",
       "7221     2.00\n",
       "7222    -3.75\n",
       "7223     6.75\n",
       "Name: CLOSE, Length: 7224, dtype: float64"
      ]
     },
     "execution_count": 143,
     "metadata": {},
     "output_type": "execute_result"
    }
   ],
   "source": [
    "diff = datos['CLOSE'].diff().fillna(0)\n",
    "datos['diff'] = diff\n",
    "diff"
   ]
  },
  {
   "cell_type": "code",
   "execution_count": 177,
   "id": "50bc5e12",
   "metadata": {},
   "outputs": [],
   "source": [
    "diff2 = []\n",
    "for ind in diff.index:\n",
    "    if (diff[ind]>0): \n",
    "        diff[ind] = 1\n",
    "    elif (diff[ind]<0):\n",
    "        diff[ind] = -1\n",
    "    else:\n",
    "        diff[ind] = 0\n",
    "\n"
   ]
  },
  {
   "cell_type": "code",
   "execution_count": 181,
   "id": "4af0f30f",
   "metadata": {},
   "outputs": [
    {
     "data": {
      "text/plain": [
       "Rolling [window=3,center=False,axis=0]"
      ]
     },
     "execution_count": 181,
     "metadata": {},
     "output_type": "execute_result"
    }
   ],
   "source": [
    "datos['diff'].rolling(3)"
   ]
  },
  {
   "cell_type": "code",
   "execution_count": null,
   "id": "ff05571e",
   "metadata": {},
   "outputs": [],
   "source": []
  },
  {
   "cell_type": "code",
   "execution_count": null,
   "id": "9d291ebe",
   "metadata": {},
   "outputs": [],
   "source": []
  }
 ],
 "metadata": {
  "kernelspec": {
   "display_name": "Python 3",
   "language": "python",
   "name": "python3"
  },
  "language_info": {
   "codemirror_mode": {
    "name": "ipython",
    "version": 3
   },
   "file_extension": ".py",
   "mimetype": "text/x-python",
   "name": "python",
   "nbconvert_exporter": "python",
   "pygments_lexer": "ipython3",
   "version": "3.8.8"
  }
 },
 "nbformat": 4,
 "nbformat_minor": 5
}
