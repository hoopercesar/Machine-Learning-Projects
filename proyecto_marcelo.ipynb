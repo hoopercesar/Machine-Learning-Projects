{
 "cells": [
  {
   "cell_type": "code",
   "execution_count": 152,
   "id": "e57b0f07",
   "metadata": {},
   "outputs": [],
   "source": [
    "# imports\n",
    "\n",
    "import numpy as np\n",
    "import pandas as pd\n",
    "import matplotlib.pyplot as plt\n",
    "import os\n",
    "import cv2\n",
    "\n",
    "# from statsmodels.graphics.tsaplots import plot_acf\n",
    "# from statsmodels.tsa.stattools import adfuller\n",
    "# from scipy.ndimage.interpolation import shift\n",
    "\n",
    "from sklearn.preprocessing import StandardScaler\n",
    "from sklearn.model_selection import train_test_split\n",
    "from sklearn.ensemble import RandomForestClassifier\n",
    "from sklearn.ensemble import RandomForestRegressor\n",
    "from sklearn.neural_network import MLPClassifier\n",
    "from sklearn import metrics\n",
    "\n",
    "from sklearn.metrics import confusion_matrix\n",
    "from sklearn.metrics import classification_report \n",
    "from sklearn.ensemble import GradientBoostingClassifier\n",
    "%matplotlib inline"
   ]
  },
  {
   "cell_type": "code",
   "execution_count": 2,
   "id": "7a3d477e",
   "metadata": {},
   "outputs": [
    {
     "name": "stdout",
     "output_type": "stream",
     "text": [
      "Author: César S. Hooper/ Novembro 2022\n",
      "\n",
      "pandas    : 1.2.4\n",
      "matplotlib: 3.3.4\n",
      "sklearn   : 0.24.1\n",
      "cv2       : 4.5.4-dev\n",
      "numpy     : 1.19.5\n",
      "\n",
      "Python 3.8.8\n"
     ]
    }
   ],
   "source": [
    "# Versões dos pacotes usados no notebook\n",
    "\n",
    "%reload_ext watermark\n",
    "%watermark -a \"César S. Hooper/ Novembro 2022\" --iversions\n",
    "!python --version"
   ]
  },
  {
   "cell_type": "code",
   "execution_count": 4,
   "id": "ca733d06",
   "metadata": {},
   "outputs": [],
   "source": [
    "path = 'C:/Users/Cesar Hooper/Desktop/github/bolsa_chile/resumen.csv'"
   ]
  },
  {
   "cell_type": "code",
   "execution_count": 148,
   "id": "77bdd54f",
   "metadata": {},
   "outputs": [],
   "source": [
    "datos = pd.read_excel('micro emini ES 08-07 18_43.xls', sheet_name='5 mins - 5 D')\n",
    "datos2 = pd.read_excel('micro emini ES 08-12 17_47.xls')\n",
    "datos3 = pd.read_excel('micro emini ES 08-13 17_10.xls')\n",
    "datos4 = pd.read_excel('micro emini ES 08-14 18_48.xls')\n",
    "datos5 = pd.read_excel('micro emini ES 08-15 19_08.xls')\n",
    "datos6 = pd.read_excel('micro emini ES 08-19 17_41.xls')"
   ]
  },
  {
   "cell_type": "code",
   "execution_count": 149,
   "id": "1b4dc767",
   "metadata": {},
   "outputs": [
    {
     "data": {
      "text/html": [
       "<div>\n",
       "<style scoped>\n",
       "    .dataframe tbody tr th:only-of-type {\n",
       "        vertical-align: middle;\n",
       "    }\n",
       "\n",
       "    .dataframe tbody tr th {\n",
       "        vertical-align: top;\n",
       "    }\n",
       "\n",
       "    .dataframe thead th {\n",
       "        text-align: right;\n",
       "    }\n",
       "</style>\n",
       "<table border=\"1\" class=\"dataframe\">\n",
       "  <thead>\n",
       "    <tr style=\"text-align: right;\">\n",
       "      <th></th>\n",
       "      <th>HORA</th>\n",
       "      <th>OPEN</th>\n",
       "      <th>HIGH</th>\n",
       "      <th>LOW</th>\n",
       "      <th>CLOSE</th>\n",
       "      <th>VOLUME</th>\n",
       "      <th>Unnamed: 6</th>\n",
       "      <th>Vol</th>\n",
       "      <th>ADX1</th>\n",
       "      <th>C</th>\n",
       "      <th>...</th>\n",
       "      <th>..4</th>\n",
       "      <th>..5</th>\n",
       "      <th>..6</th>\n",
       "      <th>..7</th>\n",
       "      <th>..8</th>\n",
       "      <th>..9</th>\n",
       "      <th>..10</th>\n",
       "      <th>..11</th>\n",
       "      <th>c&gt;34</th>\n",
       "      <th>..12</th>\n",
       "    </tr>\n",
       "  </thead>\n",
       "  <tbody>\n",
       "    <tr>\n",
       "      <th>0</th>\n",
       "      <td>18:00</td>\n",
       "      <td>3958.25</td>\n",
       "      <td>3961.00</td>\n",
       "      <td>3954.25</td>\n",
       "      <td>3959.50</td>\n",
       "      <td>2067</td>\n",
       "      <td>NaN</td>\n",
       "      <td>2067</td>\n",
       "      <td>3959.50</td>\n",
       "      <td>3959.50</td>\n",
       "      <td>...</td>\n",
       "      <td>▲</td>\n",
       "      <td>▲</td>\n",
       "      <td>NaN</td>\n",
       "      <td>NaN</td>\n",
       "      <td>NaN</td>\n",
       "      <td>NaN</td>\n",
       "      <td>NaN</td>\n",
       "      <td>NaN</td>\n",
       "      <td>▲</td>\n",
       "      <td>NaN</td>\n",
       "    </tr>\n",
       "    <tr>\n",
       "      <th>1</th>\n",
       "      <td>18:05</td>\n",
       "      <td>3959.75</td>\n",
       "      <td>3960.25</td>\n",
       "      <td>3958.75</td>\n",
       "      <td>3959.50</td>\n",
       "      <td>525</td>\n",
       "      <td>NaN</td>\n",
       "      <td>525</td>\n",
       "      <td>100.00</td>\n",
       "      <td>3959.50</td>\n",
       "      <td>...</td>\n",
       "      <td>▲</td>\n",
       "      <td>▲</td>\n",
       "      <td>NaN</td>\n",
       "      <td>NaN</td>\n",
       "      <td>NaN</td>\n",
       "      <td>NaN</td>\n",
       "      <td>NaN</td>\n",
       "      <td>NaN</td>\n",
       "      <td>▲</td>\n",
       "      <td>NaN</td>\n",
       "    </tr>\n",
       "    <tr>\n",
       "      <th>2</th>\n",
       "      <td>18:10</td>\n",
       "      <td>3959.75</td>\n",
       "      <td>3960.00</td>\n",
       "      <td>3954.50</td>\n",
       "      <td>3954.75</td>\n",
       "      <td>839</td>\n",
       "      <td>NaN</td>\n",
       "      <td>839</td>\n",
       "      <td>99.71</td>\n",
       "      <td>3954.75</td>\n",
       "      <td>...</td>\n",
       "      <td>▲</td>\n",
       "      <td>▲</td>\n",
       "      <td>NaN</td>\n",
       "      <td>NaN</td>\n",
       "      <td>NaN</td>\n",
       "      <td>NaN</td>\n",
       "      <td>NaN</td>\n",
       "      <td>NaN</td>\n",
       "      <td>▲</td>\n",
       "      <td>NaN</td>\n",
       "    </tr>\n",
       "    <tr>\n",
       "      <th>3</th>\n",
       "      <td>18:15</td>\n",
       "      <td>3954.50</td>\n",
       "      <td>3955.75</td>\n",
       "      <td>3951.50</td>\n",
       "      <td>3952.25</td>\n",
       "      <td>1729</td>\n",
       "      <td>NaN</td>\n",
       "      <td>1729</td>\n",
       "      <td>99.48</td>\n",
       "      <td>3952.25</td>\n",
       "      <td>...</td>\n",
       "      <td>▲</td>\n",
       "      <td>▲</td>\n",
       "      <td>NaN</td>\n",
       "      <td>NaN</td>\n",
       "      <td>NaN</td>\n",
       "      <td>NaN</td>\n",
       "      <td>NaN</td>\n",
       "      <td>NaN</td>\n",
       "      <td>▲</td>\n",
       "      <td>NaN</td>\n",
       "    </tr>\n",
       "    <tr>\n",
       "      <th>4</th>\n",
       "      <td>18:20</td>\n",
       "      <td>3952.25</td>\n",
       "      <td>3954.25</td>\n",
       "      <td>3947.50</td>\n",
       "      <td>3947.50</td>\n",
       "      <td>2579</td>\n",
       "      <td>NaN</td>\n",
       "      <td>2579</td>\n",
       "      <td>99.13</td>\n",
       "      <td>3947.50</td>\n",
       "      <td>...</td>\n",
       "      <td>▲</td>\n",
       "      <td>▲</td>\n",
       "      <td>▼</td>\n",
       "      <td>NaN</td>\n",
       "      <td>NaN</td>\n",
       "      <td>NaN</td>\n",
       "      <td>NaN</td>\n",
       "      <td>NaN</td>\n",
       "      <td>▲</td>\n",
       "      <td>NaN</td>\n",
       "    </tr>\n",
       "  </tbody>\n",
       "</table>\n",
       "<p>5 rows × 28 columns</p>\n",
       "</div>"
      ],
      "text/plain": [
       "    HORA     OPEN     HIGH      LOW    CLOSE  VOLUME  Unnamed: 6   Vol  \\\n",
       "0  18:00  3958.25  3961.00  3954.25  3959.50    2067         NaN  2067   \n",
       "1  18:05  3959.75  3960.25  3958.75  3959.50     525         NaN   525   \n",
       "2  18:10  3959.75  3960.00  3954.50  3954.75     839         NaN   839   \n",
       "3  18:15  3954.50  3955.75  3951.50  3952.25    1729         NaN  1729   \n",
       "4  18:20  3952.25  3954.25  3947.50  3947.50    2579         NaN  2579   \n",
       "\n",
       "      ADX1        C  ... ..4  ..5  ..6  ..7  ..8  ..9 ..10 ..11 c>34 ..12  \n",
       "0  3959.50  3959.50  ...   ▲    ▲  NaN  NaN  NaN  NaN  NaN  NaN    ▲  NaN  \n",
       "1   100.00  3959.50  ...   ▲    ▲  NaN  NaN  NaN  NaN  NaN  NaN    ▲  NaN  \n",
       "2    99.71  3954.75  ...   ▲    ▲  NaN  NaN  NaN  NaN  NaN  NaN    ▲  NaN  \n",
       "3    99.48  3952.25  ...   ▲    ▲  NaN  NaN  NaN  NaN  NaN  NaN    ▲  NaN  \n",
       "4    99.13  3947.50  ...   ▲    ▲    ▼  NaN  NaN  NaN  NaN  NaN    ▲  NaN  \n",
       "\n",
       "[5 rows x 28 columns]"
      ]
     },
     "execution_count": 149,
     "metadata": {},
     "output_type": "execute_result"
    }
   ],
   "source": [
    "datos.head()"
   ]
  },
  {
   "cell_type": "code",
   "execution_count": 13,
   "id": "f0c1d20c",
   "metadata": {},
   "outputs": [
    {
     "data": {
      "text/plain": [
       "<AxesSubplot:>"
      ]
     },
     "execution_count": 13,
     "metadata": {},
     "output_type": "execute_result"
    },
    {
     "data": {
      "image/png": "[encoded data removed]",
      "text/plain": [
       "<Figure size 432x288 with 1 Axes>"
      ]
     },
     "metadata": {
      "needs_background": "light"
     },
     "output_type": "display_data"
    }
   ],
   "source": [
    "close = datos['Unnamed: 2']\n",
    "close.plot()"
   ]
  },
  {
   "cell_type": "code",
   "execution_count": 101,
   "id": "31bc25b7",
   "metadata": {},
   "outputs": [
    {
     "data": {
      "text/plain": [
       "[<matplotlib.lines.Line2D at 0x2a7b38d98b0>]"
      ]
     },
     "execution_count": 101,
     "metadata": {},
     "output_type": "execute_result"
    },
    {
     "data": {
      "image/png": "[encoded data removed]",
      "text/plain": [
       "<Figure size 432x288 with 1 Axes>"
      ]
     },
     "metadata": {
      "needs_background": "light"
     },
     "output_type": "display_data"
    }
   ],
   "source": [
    "# restamos media móvil\n",
    "ventana = 15\n",
    "close_md = close.rolling(window=ventana).mean()\n",
    "# print(close_md.mean(), len(close_md), close.mean())\n",
    "close_array = np.array(close_md)\n",
    "y = close_array[ventana-1::];\n",
    "x = np.arange(0, len(y))\n",
    "plt.plot(x, y)"
   ]
  },
  {
   "cell_type": "code",
   "execution_count": 102,
   "id": "8ad08434",
   "metadata": {},
   "outputs": [
    {
     "data": {
      "text/plain": [
       "array([1.93402661e-01, 3.89212814e+03])"
      ]
     },
     "execution_count": 102,
     "metadata": {},
     "output_type": "execute_result"
    }
   ],
   "source": [
    "# ajuste lineal\n",
    "fit = np.polyfit(x,y, 1)\n",
    "fit"
   ]
  },
  {
   "cell_type": "code",
   "execution_count": 103,
   "id": "17529d1a",
   "metadata": {},
   "outputs": [],
   "source": [
    "u = lambda z: fit[1] + fit[0]*z"
   ]
  },
  {
   "cell_type": "code",
   "execution_count": 104,
   "id": "159200de",
   "metadata": {},
   "outputs": [
    {
     "data": {
      "text/plain": [
       "[<matplotlib.lines.Line2D at 0x2a7b36907c0>,\n",
       " <matplotlib.lines.Line2D at 0x2a7b35ebdc0>,\n",
       " <matplotlib.lines.Line2D at 0x2a7b35ebf10>]"
      ]
     },
     "execution_count": 104,
     "metadata": {},
     "output_type": "execute_result"
    },
    {
     "data": {
      "image/png": "[encoded data removed]",
      "text/plain": [
       "<Figure size 432x288 with 1 Axes>"
      ]
     },
     "metadata": {
      "needs_background": "light"
     },
     "output_type": "display_data"
    }
   ],
   "source": [
    "plt.plot(x, y, x, u(x), x, np.array(close[ventana-1::]))"
   ]
  },
  {
   "cell_type": "code",
   "execution_count": 105,
   "id": "ddab01ef",
   "metadata": {},
   "outputs": [
    {
     "data": {
      "text/plain": [
       "[<matplotlib.lines.Line2D at 0x2a7b39f1160>]"
      ]
     },
     "execution_count": 105,
     "metadata": {},
     "output_type": "execute_result"
    },
    {
     "data": {
      "image/png": "[encoded data removed]",
      "text/plain": [
       "<Figure size 432x288 with 1 Axes>"
      ]
     },
     "metadata": {
      "needs_background": "light"
     },
     "output_type": "display_data"
    }
   ],
   "source": [
    "plt.plot(x, y-u(x))"
   ]
  },
  {
   "cell_type": "code",
   "execution_count": 119,
   "id": "8a110854",
   "metadata": {},
   "outputs": [],
   "source": [
    "dados = np.array(close_md[ventana-1::])"
   ]
  },
  {
   "cell_type": "code",
   "execution_count": 150,
   "id": "a0e5e80e",
   "metadata": {},
   "outputs": [
    {
     "data": {
      "text/html": [
       "<div>\n",
       "<style scoped>\n",
       "    .dataframe tbody tr th:only-of-type {\n",
       "        vertical-align: middle;\n",
       "    }\n",
       "\n",
       "    .dataframe tbody tr th {\n",
       "        vertical-align: top;\n",
       "    }\n",
       "\n",
       "    .dataframe thead th {\n",
       "        text-align: right;\n",
       "    }\n",
       "</style>\n",
       "<table border=\"1\" class=\"dataframe\">\n",
       "  <thead>\n",
       "    <tr style=\"text-align: right;\">\n",
       "      <th></th>\n",
       "      <th>x0</th>\n",
       "      <th>x1</th>\n",
       "      <th>x2</th>\n",
       "      <th>x3</th>\n",
       "      <th>x4</th>\n",
       "      <th>target</th>\n",
       "    </tr>\n",
       "  </thead>\n",
       "  <tbody>\n",
       "    <tr>\n",
       "      <th>0</th>\n",
       "      <td>3915.816667</td>\n",
       "      <td>3916.000000</td>\n",
       "      <td>3916.150000</td>\n",
       "      <td>3916.266667</td>\n",
       "      <td>3916.383333</td>\n",
       "      <td>3916.450000</td>\n",
       "    </tr>\n",
       "    <tr>\n",
       "      <th>1</th>\n",
       "      <td>3916.000000</td>\n",
       "      <td>3916.150000</td>\n",
       "      <td>3916.266667</td>\n",
       "      <td>3916.383333</td>\n",
       "      <td>3916.450000</td>\n",
       "      <td>3916.550000</td>\n",
       "    </tr>\n",
       "    <tr>\n",
       "      <th>2</th>\n",
       "      <td>3916.150000</td>\n",
       "      <td>3916.266667</td>\n",
       "      <td>3916.383333</td>\n",
       "      <td>3916.450000</td>\n",
       "      <td>3916.550000</td>\n",
       "      <td>3916.633333</td>\n",
       "    </tr>\n",
       "    <tr>\n",
       "      <th>3</th>\n",
       "      <td>3916.266667</td>\n",
       "      <td>3916.383333</td>\n",
       "      <td>3916.450000</td>\n",
       "      <td>3916.550000</td>\n",
       "      <td>3916.633333</td>\n",
       "      <td>3916.650000</td>\n",
       "    </tr>\n",
       "    <tr>\n",
       "      <th>4</th>\n",
       "      <td>3916.383333</td>\n",
       "      <td>3916.450000</td>\n",
       "      <td>3916.550000</td>\n",
       "      <td>3916.633333</td>\n",
       "      <td>3916.650000</td>\n",
       "      <td>3916.733333</td>\n",
       "    </tr>\n",
       "  </tbody>\n",
       "</table>\n",
       "</div>"
      ],
      "text/plain": [
       "            x0           x1           x2           x3           x4  \\\n",
       "0  3915.816667  3916.000000  3916.150000  3916.266667  3916.383333   \n",
       "1  3916.000000  3916.150000  3916.266667  3916.383333  3916.450000   \n",
       "2  3916.150000  3916.266667  3916.383333  3916.450000  3916.550000   \n",
       "3  3916.266667  3916.383333  3916.450000  3916.550000  3916.633333   \n",
       "4  3916.383333  3916.450000  3916.550000  3916.633333  3916.650000   \n",
       "\n",
       "        target  \n",
       "0  3916.450000  \n",
       "1  3916.550000  \n",
       "2  3916.633333  \n",
       "3  3916.650000  \n",
       "4  3916.733333  "
      ]
     },
     "execution_count": 150,
     "metadata": {},
     "output_type": "execute_result"
    }
   ],
   "source": [
    "# dataset dim=7, step=1, prev=1 // cria_dataset(datos, dim, step, prevision)\n",
    "dataset = cria_dataset(dados, 5, 1, 1)\n",
    "dataset.head()"
   ]
  },
  {
   "cell_type": "code",
   "execution_count": 147,
   "id": "5018132a",
   "metadata": {},
   "outputs": [
    {
     "data": {
      "text/plain": [
       "<matplotlib.collections.PathCollection at 0x2a7b4e3d730>"
      ]
     },
     "execution_count": 147,
     "metadata": {},
     "output_type": "execute_result"
    },
    {
     "data": {
      "image/png": "[encoded data removed]",
      "text/plain": [
       "<Figure size 432x288 with 1 Axes>"
      ]
     },
     "metadata": {
      "needs_background": "light"
     },
     "output_type": "display_data"
    }
   ],
   "source": [
    "plt.scatter(dataset.x4, dataset.target)"
   ]
  },
  {
   "cell_type": "code",
   "execution_count": 153,
   "id": "443893bb",
   "metadata": {},
   "outputs": [
    {
     "data": {
      "text/plain": [
       "RandomForestRegressor(max_depth=50, n_estimators=1000)"
      ]
     },
     "execution_count": 153,
     "metadata": {},
     "output_type": "execute_result"
    }
   ],
   "source": [
    "y = dataset['target'];\n",
    "X = dataset.drop('target', axis=1);\n",
    "\n",
    "## Creación modelo\n",
    "X_train, X_test, y_train, y_test = train_test_split(X, y, test_size=0.6)\n",
    "\n",
    "# Vamos a escalar los datos. \n",
    "# Crea el objeto y fitea\n",
    "scaler = StandardScaler()\n",
    "scaler.fit(X_train)\n",
    "\n",
    "# normaliza los datos. tf: transformados o escalados\n",
    "X_train_tf = scaler.transform(X_train)\n",
    "X_test_tf = scaler.transform(X_test)\n",
    "\n",
    "# aplicação do modelo\n",
    "rfr = RandomForestRegressor(n_estimators=1000, max_depth=50)\n",
    "rfr.fit(X_train_tf, y_train)\n",
    "\n"
   ]
  },
  {
   "cell_type": "code",
   "execution_count": 154,
   "id": "23af8c4f",
   "metadata": {},
   "outputs": [],
   "source": [
    "y_train_pred= rfr.predict(X_train_tf)\n",
    "y_test_pred = rfr.predict(X_test_tf)"
   ]
  },
  {
   "cell_type": "code",
   "execution_count": 155,
   "id": "180cb389",
   "metadata": {},
   "outputs": [
    {
     "data": {
      "text/plain": [
       "<matplotlib.collections.PathCollection at 0x2a7b3537c10>"
      ]
     },
     "execution_count": 155,
     "metadata": {},
     "output_type": "execute_result"
    },
    {
     "data": {
      "image/png": "[encoded data removed]",
      "text/plain": [
       "<Figure size 432x288 with 1 Axes>"
      ]
     },
     "metadata": {
      "needs_background": "light"
     },
     "output_type": "display_data"
    }
   ],
   "source": [
    "plt.scatter(y_train, y_train_pred)"
   ]
  },
  {
   "cell_type": "code",
   "execution_count": 156,
   "id": "17a3eee6",
   "metadata": {},
   "outputs": [
    {
     "data": {
      "text/plain": [
       "<matplotlib.collections.PathCollection at 0x2a7b4ac4280>"
      ]
     },
     "execution_count": 156,
     "metadata": {},
     "output_type": "execute_result"
    },
    {
     "data": {
      "image/png": "[encoded data removed]",
      "text/plain": [
       "<Figure size 432x288 with 1 Axes>"
      ]
     },
     "metadata": {
      "needs_background": "light"
     },
     "output_type": "display_data"
    }
   ],
   "source": [
    "plt.scatter(y_test, y_test_pred)"
   ]
  },
  {
   "cell_type": "code",
   "execution_count": 17,
   "id": "5602a5e1",
   "metadata": {},
   "outputs": [],
   "source": []
  },
  {
   "cell_type": "code",
   "execution_count": 18,
   "id": "626fff14",
   "metadata": {},
   "outputs": [],
   "source": []
  },
  {
   "cell_type": "code",
   "execution_count": 19,
   "id": "117afcc6",
   "metadata": {},
   "outputs": [],
   "source": []
  },
  {
   "cell_type": "code",
   "execution_count": null,
   "id": "61cf7163",
   "metadata": {},
   "outputs": [],
   "source": []
  },
  {
   "cell_type": "markdown",
   "id": "76e30f54",
   "metadata": {},
   "source": [
    "## Random Forest"
   ]
  },
  {
   "cell_type": "code",
   "execution_count": 20,
   "id": "e08df50f",
   "metadata": {},
   "outputs": [
    {
     "name": "stdout",
     "output_type": "stream",
     "text": [
      "Accuracy test: 0.98667 \n",
      "Accuracy train: 0.99713\n"
     ]
    }
   ],
   "source": [
    "# Random Forest\n",
    "# crea Classifier\n",
    "rfc=RandomForestClassifier(n_estimators=300, criterion='entropy', min_samples_split=10)\n",
    "\n",
    "# Entrena modelo y lo aplica para predecir\n",
    "rfc.fit(X_train_tf,y_train)\n",
    "\n",
    "y_train_pred_rf = rfc.predict(X_train_tf)\n",
    "y_test_pred_rf = rfc.predict(X_test_tf)\n",
    "\n",
    "print(\"Accuracy test: %.5f\"%metrics.accuracy_score(y_test, y_test_pred_rf), '\\n'\n",
    "     'Accuracy train: %.5f'%metrics.accuracy_score(y_train, y_train_pred_rf))"
   ]
  },
  {
   "cell_type": "code",
   "execution_count": 21,
   "id": "acc2353c",
   "metadata": {},
   "outputs": [
    {
     "data": {
      "text/plain": [
       "array([[94,  2],\n",
       "       [ 0, 54]], dtype=int64)"
      ]
     },
     "execution_count": 21,
     "metadata": {},
     "output_type": "execute_result"
    }
   ],
   "source": [
    "matriz_conf_rf = confusion_matrix(y_test, y_test_pred_rf)\n",
    "matriz_conf_rf"
   ]
  },
  {
   "cell_type": "code",
   "execution_count": null,
   "id": "b3b8b7b3",
   "metadata": {},
   "outputs": [],
   "source": []
  },
  {
   "cell_type": "code",
   "execution_count": null,
   "id": "613ba0f7",
   "metadata": {},
   "outputs": [],
   "source": []
  },
  {
   "cell_type": "code",
   "execution_count": 106,
   "id": "cec4cfc6",
   "metadata": {},
   "outputs": [],
   "source": [
    "def cria_dataset(dados, dim, step, pred):\n",
    "    \n",
    "    \"\"\"\n",
    "    Cria dataset a partir de uma serie de tempo ---\n",
    "    \n",
    "    -- dados: serie de tempo\n",
    "    -- dim: dimensão do vector\n",
    "    -- step: intercalado para seleção dos dados\n",
    "    -- pred: dia target para prever\n",
    "    -- return: retorna dataframe com vetores e target\n",
    "    \"\"\"\n",
    "   \n",
    "    N = len(dados)\n",
    "    \n",
    "    if ((dim-1)*step+pred)>N: print('Problemas com Dimensões dos objetos')\n",
    "    \n",
    "    dataset = pd.DataFrame(columns=['x'+str(u) for u in range(dim)])\n",
    "    targets = []\n",
    "    \n",
    "    k = 0\n",
    "    while True:\n",
    "        \n",
    "        if (k + (dim-1)*step + pred) == N: break \n",
    "        else:             \n",
    "            dataset.loc[k] = [dados[u] for u in range(k, k + (dim-1)*step + 1, step)]\n",
    "            targets.append(dados[k + (dim-1)*step + pred])\n",
    "            k += 1    \n",
    "    \n",
    "    dataset['target'] = targets\n",
    "    \n",
    "    return dataset\n",
    "        "
   ]
  },
  {
   "cell_type": "code",
   "execution_count": null,
   "id": "66c8f483",
   "metadata": {},
   "outputs": [],
   "source": []
  }
 ],
 "metadata": {
  "kernelspec": {
   "display_name": "Python 3",
   "language": "python",
   "name": "python3"
  },
  "language_info": {
   "codemirror_mode": {
    "name": "ipython",
    "version": 3
   },
   "file_extension": ".py",
   "mimetype": "text/x-python",
   "name": "python",
   "nbconvert_exporter": "python",
   "pygments_lexer": "ipython3",
   "version": "3.8.8"
  }
 },
 "nbformat": 4,
 "nbformat_minor": 5
}
